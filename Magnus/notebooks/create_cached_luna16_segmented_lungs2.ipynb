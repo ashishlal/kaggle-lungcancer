{
 "cells": [
  {
   "cell_type": "code",
   "execution_count": 1,
   "metadata": {
    "collapsed": true
   },
   "outputs": [],
   "source": [
    "#cd /home/watts/lal/Kaggle/lung_cancer"
   ]
  },
  {
   "cell_type": "code",
   "execution_count": 1,
   "metadata": {
    "collapsed": false
   },
   "outputs": [],
   "source": [
    "from __future__ import print_function, division\n",
    "import SimpleITK as sitk\n",
    "import numpy as np\n",
    "import csv\n",
    "from glob import glob\n",
    "import pandas as pd\n",
    "import os\n",
    "from random import randint, choice\n",
    "try:\n",
    "    from tqdm import tqdm # long waits are not fun\n",
    "except:\n",
    "    print('TQDM does make much nicer wait bars...')\n",
    "    tqdm = lambda x: x"
   ]
  },
  {
   "cell_type": "code",
   "execution_count": 2,
   "metadata": {
    "collapsed": true
   },
   "outputs": [],
   "source": [
    "luna_path = \"/home/watts/lal/Kaggle/lung_cancer/data_luna16/\"\n",
    "luna_subset_path = luna_path+\"subsetall_my/\"\n",
    "output_path = \"/home/watts/lal/Kaggle/lung_cancer/cache/luna16/512_512_16/\"\n",
    "file_list=glob(luna_subset_path+\"*.mhd\")"
   ]
  },
  {
   "cell_type": "code",
   "execution_count": 3,
   "metadata": {
    "collapsed": false
   },
   "outputs": [],
   "source": [
    "def make_mask(center,diam,z,width,height,spacing,origin):\n",
    "    '''\n",
    "Center : centers of circles px -- list of coordinates x,y,z\n",
    "diam : diameters of circles px -- diameter\n",
    "widthXheight : pixel dim of image\n",
    "spacing = mm/px conversion rate np array x,y,z\n",
    "origin = x,y,z mm np.array\n",
    "z = z position of slice in world coordinates mm\n",
    "    '''\n",
    "    print('1..')\n",
    "    print(center,diam,z,width,height,spacing,origin)\n",
    "    mask = np.zeros([height,width]) # 0's everywhere except nodule swapping x,y to match img\n",
    "    #convert to nodule space from world coordinates\n",
    "\n",
    "    # Defining the voxel range in which the nodule falls\n",
    "    v_center = (center-origin)/spacing\n",
    "    v_diam = int(diam/spacing[0]+5)\n",
    "    v_xmin = np.max([0,int(v_center[0]-v_diam)-5])\n",
    "    v_xmax = np.min([width-1,int(v_center[0]+v_diam)+5])\n",
    "    v_ymin = np.max([0,int(v_center[1]-v_diam)-5]) \n",
    "    v_ymax = np.min([height-1,int(v_center[1]+v_diam)+5])\n",
    "\n",
    "    print('2..')\n",
    "    print(v_center,v_diam,v_xmin,v_xmax,v_ymin,v_ymax)\n",
    "    \n",
    "    v_xrange = range(v_xmin,v_xmax+1)\n",
    "    v_yrange = range(v_ymin,v_ymax+1)\n",
    "\n",
    "    print('3..')\n",
    "    print(v_xrange, v_yrange)\n",
    "    \n",
    "    # Convert back to world coordinates for distance calculation\n",
    "    x_data = [x*spacing[0]+origin[0] for x in range(width)]\n",
    "    y_data = [x*spacing[1]+origin[1] for x in range(height)]\n",
    "\n",
    "    #print('4..')\n",
    "    #print(x_data, y_data)\n",
    "    \n",
    "    # Fill in 1 within sphere around nodule\n",
    "    for v_x in v_xrange:\n",
    "        for v_y in v_yrange:\n",
    "            p_x = spacing[0]*v_x + origin[0]\n",
    "            p_y = spacing[1]*v_y + origin[1]\n",
    "            #print(p_x, p_y)\n",
    "            if np.linalg.norm(center-np.array([p_x,p_y,z]))<=diam:\n",
    "                mask[int((p_y-origin[1])/spacing[1]),int((p_x-origin[0])/spacing[0])] = 1.0\n",
    "    return(mask)\n",
    "\n",
    "def make_mask2(center,diam,z,width,height,spacing,origin):\n",
    "    '''\n",
    "Center : centers of circles px -- list of coordinates x,y,z\n",
    "diam : diameters of circles px -- diameter\n",
    "widthXheight : pixel dim of image\n",
    "spacing = mm/px conversion rate np array x,y,z\n",
    "origin = x,y,z mm np.array\n",
    "z = z position of slice in world coordinates mm\n",
    "    '''\n",
    "    #print('1..')\n",
    "    #print(center,diam,z,width,height,spacing,origin)\n",
    "    mask = np.zeros([height,width]) # 0's everywhere except nodule swapping x,y to match img\n",
    "    #convert to nodule space from world coordinates\n",
    "\n",
    "    # Defining the voxel range in which the nodule falls\n",
    "    v_center = (center-origin)/spacing\n",
    "    v_diam = int(diam/spacing[0]+5)\n",
    "    v_diam_z = int(diam/spacing[2]+5)\n",
    "    v_xmin = np.max([0,int(v_center[0]-v_diam)-5])\n",
    "    v_xmax = np.min([width-1,int(v_center[0]+v_diam)+5])\n",
    "    v_ymin = np.max([0,int(v_center[1]-v_diam)-5]) \n",
    "    v_ymax = np.min([height-1,int(v_center[1]+v_diam)+5])\n",
    "    v_zmax = np.max([0,int(v_center[2]-v_diam_z)+5]) \n",
    "    v_zmin = np.min([int(z-1),int(v_center[2]+v_diam_z)-5])\n",
    "    \n",
    "    #print('2..')\n",
    "    #print(v_center,v_diam,v_diam_z,v_xmin,v_xmax,v_ymin,v_ymax,v_zmin,v_zmax)\n",
    "    \n",
    "    v_xrange = range(v_xmin,v_xmax+1)\n",
    "    v_yrange = range(v_ymin,v_ymax+1)\n",
    "    v_zrange = range(v_zmin,v_zmax+1)\n",
    "    \n",
    "    #print('3..')\n",
    "    #print(v_xrange, v_yrange, v_zrange)\n",
    "    \n",
    "    # Convert back to world coordinates for distance calculation\n",
    "    x_data = [x*spacing[0]+origin[0] for x in range(width)]\n",
    "    y_data = [x*spacing[1]+origin[1] for x in range(height)]\n",
    "    z_data = [x*spacing[2]+origin[2] for x in range(int(z))]\n",
    "    \n",
    "    #print('4..')\n",
    "    #print(x_data, y_data)\n",
    "    \n",
    "    # Fill in 1 within sphere around nodule\n",
    "    min_xy = 1000000\n",
    "    min_xz = 1000000\n",
    "    min_yz = 1000000\n",
    "    min_xyz = 1000000\n",
    "    for v_x in v_xrange:\n",
    "        for v_y in v_yrange:\n",
    "        #for v_z in v_zrange:\n",
    "            p_x = spacing[0]*v_x + origin[0]\n",
    "            p_y = spacing[1]*v_y + origin[1]\n",
    "            #p_z = spacing[2]*v_z + origin[2]\n",
    "            #print(p_x, p_y)\n",
    "            dxy = np.linalg.norm(center-np.array([p_x,p_y,z]))\n",
    "            #dxyz =np.linalg.norm(center-np.array([p_x,p_y,p_z]))\n",
    "            if dxy < min_xy:\n",
    "                min_xy = dxy\n",
    "#             if dxyz < min_xyz:\n",
    "#                 min_xyz = dxyz\n",
    "            if (\n",
    "                dxy <= diam+2\n",
    "            ):\n",
    "                mask[int((p_y-origin[1])/spacing[1]),int((p_x-origin[0])/spacing[0])] = 1.0\n",
    "    #print('5..')\n",
    "    #print(min_xy, diam+4)\n",
    "    return(mask)\n",
    "\n",
    "\n",
    "def matrix2int16(matrix):\n",
    "    ''' \n",
    "matrix must be a numpy array NXN\n",
    "Returns uint16 version\n",
    "    '''\n",
    "    m_min= np.min(matrix)\n",
    "    m_max= np.max(matrix)\n",
    "    matrix = matrix-m_min\n",
    "    return(np.array(np.rint( (matrix-m_min)/float(m_max-m_min) * 65535.0),dtype=np.uint16))\n",
    "\n",
    "#####################\n",
    "#\n",
    "# Helper function to get rows in data frame associated \n",
    "# with each file\n",
    "def get_filename(file_list, case):\n",
    "    for f in file_list:\n",
    "        if case in f:\n",
    "            return(f)"
   ]
  },
  {
   "cell_type": "code",
   "execution_count": 4,
   "metadata": {
    "collapsed": false
   },
   "outputs": [
    {
     "data": {
      "text/html": [
       "<div>\n",
       "<table border=\"1\" class=\"dataframe\">\n",
       "  <thead>\n",
       "    <tr style=\"text-align: right;\">\n",
       "      <th></th>\n",
       "      <th>seriesuid</th>\n",
       "      <th>coordX</th>\n",
       "      <th>coordY</th>\n",
       "      <th>coordZ</th>\n",
       "      <th>diameter_mm</th>\n",
       "      <th>file</th>\n",
       "    </tr>\n",
       "  </thead>\n",
       "  <tbody>\n",
       "    <tr>\n",
       "      <th>0</th>\n",
       "      <td>1.3.6.1.4.1.14519.5.2.1.6279.6001.100225287222...</td>\n",
       "      <td>-128.699421</td>\n",
       "      <td>-175.319272</td>\n",
       "      <td>-298.387506</td>\n",
       "      <td>5.651471</td>\n",
       "      <td>/home/watts/lal/Kaggle/lung_cancer/data_luna16...</td>\n",
       "    </tr>\n",
       "    <tr>\n",
       "      <th>1</th>\n",
       "      <td>1.3.6.1.4.1.14519.5.2.1.6279.6001.100225287222...</td>\n",
       "      <td>103.783651</td>\n",
       "      <td>-211.925149</td>\n",
       "      <td>-227.121250</td>\n",
       "      <td>4.224708</td>\n",
       "      <td>/home/watts/lal/Kaggle/lung_cancer/data_luna16...</td>\n",
       "    </tr>\n",
       "    <tr>\n",
       "      <th>2</th>\n",
       "      <td>1.3.6.1.4.1.14519.5.2.1.6279.6001.100398138793...</td>\n",
       "      <td>69.639017</td>\n",
       "      <td>-140.944586</td>\n",
       "      <td>876.374496</td>\n",
       "      <td>5.786348</td>\n",
       "      <td>/home/watts/lal/Kaggle/lung_cancer/data_luna16...</td>\n",
       "    </tr>\n",
       "    <tr>\n",
       "      <th>3</th>\n",
       "      <td>1.3.6.1.4.1.14519.5.2.1.6279.6001.100621383016...</td>\n",
       "      <td>-24.013824</td>\n",
       "      <td>192.102405</td>\n",
       "      <td>-391.081276</td>\n",
       "      <td>8.143262</td>\n",
       "      <td>/home/watts/lal/Kaggle/lung_cancer/data_luna16...</td>\n",
       "    </tr>\n",
       "    <tr>\n",
       "      <th>4</th>\n",
       "      <td>1.3.6.1.4.1.14519.5.2.1.6279.6001.100621383016...</td>\n",
       "      <td>2.441547</td>\n",
       "      <td>172.464881</td>\n",
       "      <td>-405.493732</td>\n",
       "      <td>18.545150</td>\n",
       "      <td>/home/watts/lal/Kaggle/lung_cancer/data_luna16...</td>\n",
       "    </tr>\n",
       "  </tbody>\n",
       "</table>\n",
       "</div>"
      ],
      "text/plain": [
       "                                           seriesuid      coordX      coordY  \\\n",
       "0  1.3.6.1.4.1.14519.5.2.1.6279.6001.100225287222... -128.699421 -175.319272   \n",
       "1  1.3.6.1.4.1.14519.5.2.1.6279.6001.100225287222...  103.783651 -211.925149   \n",
       "2  1.3.6.1.4.1.14519.5.2.1.6279.6001.100398138793...   69.639017 -140.944586   \n",
       "3  1.3.6.1.4.1.14519.5.2.1.6279.6001.100621383016...  -24.013824  192.102405   \n",
       "4  1.3.6.1.4.1.14519.5.2.1.6279.6001.100621383016...    2.441547  172.464881   \n",
       "\n",
       "       coordZ  diameter_mm                                               file  \n",
       "0 -298.387506     5.651471  /home/watts/lal/Kaggle/lung_cancer/data_luna16...  \n",
       "1 -227.121250     4.224708  /home/watts/lal/Kaggle/lung_cancer/data_luna16...  \n",
       "2  876.374496     5.786348  /home/watts/lal/Kaggle/lung_cancer/data_luna16...  \n",
       "3 -391.081276     8.143262  /home/watts/lal/Kaggle/lung_cancer/data_luna16...  \n",
       "4 -405.493732    18.545150  /home/watts/lal/Kaggle/lung_cancer/data_luna16...  "
      ]
     },
     "execution_count": 4,
     "metadata": {},
     "output_type": "execute_result"
    }
   ],
   "source": [
    "#\n",
    "# The locations of the nodes\n",
    "df_node = pd.read_csv(luna_path+\"annotations.csv\")\n",
    "df_node[\"file\"] = df_node[\"seriesuid\"].map(lambda file_name: get_filename(file_list, file_name))\n",
    "df_node = df_node.dropna()\n",
    "df_node.head(5)"
   ]
  },
  {
   "cell_type": "code",
   "execution_count": 5,
   "metadata": {
    "collapsed": false
   },
   "outputs": [],
   "source": [
    "zero_masks = [676, 17, 94, 102, 645, 799, 147, 248, 259, 141, 752, 799, 251, 870,\n",
    "689,\n",
    "17,\n",
    "456,\n",
    "235,\n",
    "316,\n",
    "442,\n",
    "728,\n",
    "300,\n",
    "789,\n",
    "389,\n",
    "440,\n",
    "181,\n",
    "443,\n",
    "444,\n",
    "465,\n",
    "541,\n",
    "171,\n",
    "749,\n",
    "664,\n",
    "84,\n",
    "119,\n",
    "812,\n",
    "376,\n",
    "401,\n",
    "167,\n",
    "799,\n",
    "12,\n",
    "373,\n",
    "696,\n",
    "91,\n",
    "329,\n",
    "770,\n",
    "774,\n",
    "]\n",
    "zero_masks = sorted(set(zero_masks))"
   ]
  },
  {
   "cell_type": "code",
   "execution_count": 6,
   "metadata": {
    "collapsed": false
   },
   "outputs": [
    {
     "name": "stdout",
     "output_type": "stream",
     "text": [
      "[12, 17, 84, 91, 94, 102, 119, 141, 147, 167, 171, 181, 235, 248, 251, 259, 300, 316, 329, 373, 376, 389, 401, 440, 442, 443, 444, 456, 465, 541, 645, 664, 676, 689, 696, 728, 749, 752, 770, 774, 789, 799, 812, 870]\n"
     ]
    }
   ],
   "source": [
    "print(zero_masks)"
   ]
  },
  {
   "cell_type": "code",
   "execution_count": 9,
   "metadata": {
    "collapsed": false
   },
   "outputs": [
    {
     "name": "stderr",
     "output_type": "stream",
     "text": [
      "100%|██████████| 888/888 [20:26<00:00,  1.98s/it]"
     ]
    },
    {
     "name": "stdout",
     "output_type": "stream",
     "text": [
      "1162\n"
     ]
    },
    {
     "name": "stderr",
     "output_type": "stream",
     "text": [
      "\n"
     ]
    }
   ],
   "source": [
    "num_slices = 16\n",
    "my_i = 0\n",
    "my_j = 0\n",
    "num_images = 0\n",
    "for fcount, img_file in enumerate(tqdm(file_list)):\n",
    "#     if fcount != 443:\n",
    "#         continue\n",
    "#     if my_j == len(zero_masks):\n",
    "#         break\n",
    "#     if fcount != zero_masks[my_j]:\n",
    "#         continue\n",
    "#     print(my_j, fcount, len(zero_masks))\n",
    "#     my_j += 1\n",
    "    \n",
    "#     if my_i == 1:\n",
    "#         continue\n",
    "    mini_df = df_node[df_node[\"file\"]==img_file] #get all nodules associate with file\n",
    "    if mini_df.shape[0]>0: # some files may not have a nodule--skipping those \n",
    "        # load the data once\n",
    "        itk_img = sitk.ReadImage(img_file) \n",
    "        img_array = sitk.GetArrayFromImage(itk_img) # indexes are z,y,x (notice the ordering)\n",
    "        num_z, height, width = img_array.shape        #heightXwidth constitute the transverse plane\n",
    "        origin = np.array(itk_img.GetOrigin())      # x,y,z  Origin in world coordinates (mm)\n",
    "        spacing = np.array(itk_img.GetSpacing())    # spacing of voxels in world coor. (mm)\n",
    "        #print(img_array.shape)\n",
    "        #print(origin)\n",
    "        #print(spacing)\n",
    "        # go through all nodes (why just the biggest?)\n",
    "        #tot = 0\n",
    "        for node_idx, cur_row in mini_df.iterrows(): \n",
    "#             if tot == 1:\n",
    "#                 continue\n",
    "#             my_i = 1\n",
    "#             tot = 1\n",
    "            node_x = cur_row[\"coordX\"]\n",
    "            node_y = cur_row[\"coordY\"]\n",
    "            node_z = cur_row[\"coordZ\"]\n",
    "            diam = cur_row[\"diameter_mm\"]\n",
    "            # just keep 3 slices\n",
    "            # ashish: changed to 16\n",
    "            imgs = np.ndarray([num_slices,height,width],dtype=np.float32)\n",
    "            masks = np.ndarray([num_slices,height,width],dtype=np.uint8)\n",
    "            center = np.array([node_x, node_y, node_z])   # nodule center\n",
    "            center_org = center\n",
    "            v_center = np.rint((center-origin)/spacing)  # nodule center in voxel space (still x,y,z ordering)\n",
    "            #print(center)\n",
    "            #print(v_center)\n",
    "            total_images = 0\n",
    "            succesful_z_index = []\n",
    "            #for i, i_z in enumerate(np.arange(int(v_center[2])-1,\n",
    "            #                 int(v_center[2])+(2 * num_slices-1)).clip(0, num_z-1)): # clip prevents going out of bounds in Z\n",
    "            for i, i_z in enumerate(np.arange(int(v_center[2])-int(num_slices/2),\n",
    "                             int(v_center[2])+int(num_slices/2)).clip(0, num_z-1)): # clip prevents going out of bounds in Z   \n",
    "                #print(i,i_z)\n",
    "                mask = make_mask2(center, diam, i_z*spacing[2]+origin[2],\n",
    "                                 width, height, spacing, origin)\n",
    "                attempts = 0\n",
    "                nz = np.count_nonzero(mask)\n",
    "                while nz == 0 and attempts < 5:\n",
    "                    #print('skipping .. %d, %d, %d' %(i,i_z, attempts))\n",
    "                    attempts += 1\n",
    "                    # w in 10-25 range, h in 3.5\n",
    "                    dx = randint(10,25)\n",
    "                    dy = randint(10,25)\n",
    "                    dz = randint(0,3)\n",
    "                    random_shift = np.array([dx, dy, dz])\n",
    "                    center = center_org - random_shift\n",
    "                    mask = make_mask2(center, diam, i_z*spacing[2]+origin[2],\n",
    "                                 width, height, spacing, origin)\n",
    "                    nz = np.count_nonzero(mask)\n",
    "                nz = np.count_nonzero(mask)\n",
    "                if nz == 0:\n",
    "                    continue\n",
    "                nz = np.count_nonzero(img_array[i_z])\n",
    "                if nz == 0:\n",
    "                    continue\n",
    "                #masks[i] = mask\n",
    "                #imgs[i] = img_array[i_z]\n",
    "                succesful_z_index.append(i_z)\n",
    "                masks[total_images] = mask\n",
    "                imgs[total_images] = img_array[i_z]\n",
    "                total_images += 1\n",
    "                if total_images >= num_slices:\n",
    "                    break\n",
    "            #print('got %d images from unique slices' % total_images)\n",
    "            while (total_images < num_slices) and (len(succesful_z_index) > 0):\n",
    "                i_z = choice(succesful_z_index)\n",
    "                nz = 0\n",
    "                attempts = 0\n",
    "                while nz == 0 and attempts < 5:\n",
    "                    attempts += 1\n",
    "                    # w in 10-25 range, h in 3.5\n",
    "                    dx = randint(10,25)\n",
    "                    dy = randint(10,25)\n",
    "                    dz = randint(0,3)\n",
    "                    random_shift = np.array([dx, dy, dz])\n",
    "                    center = center_org - random_shift\n",
    "                    mask = make_mask2(center, diam, i_z*spacing[2]+origin[2],\n",
    "                                 width, height, spacing, origin)\n",
    "                    nz = np.count_nonzero(mask)\n",
    "                nz = np.count_nonzero(mask)\n",
    "                if nz == 0:\n",
    "                    continue\n",
    "                masks[total_images] = mask\n",
    "                imgs[total_images] = img_array[i_z]\n",
    "                total_images += 1\n",
    "            if total_images < num_slices:\n",
    "                continue\n",
    "            num_images +=1\n",
    "            #print('writing %d images to images_%04d_%04d.npy' % (total_images, fcount, node_idx))    \n",
    "            np.save(os.path.join(output_path,\"images_%04d_%04d.npy\" % (fcount, node_idx)),imgs)\n",
    "            np.save(os.path.join(output_path,\"masks_%04d_%04d.npy\" % (fcount, node_idx)),masks)\n",
    "print(num_images)"
   ]
  },
  {
   "cell_type": "code",
   "execution_count": 10,
   "metadata": {
    "collapsed": false
   },
   "outputs": [],
   "source": [
    "output_path1 = \"/home/watts/lal/Kaggle/lung_cancer/cache/luna16/512_512_16/\"\n",
    "test = np.load(output_path1+\"masks_0386_0511.npy\")"
   ]
  },
  {
   "cell_type": "code",
   "execution_count": 11,
   "metadata": {
    "collapsed": false
   },
   "outputs": [
    {
     "data": {
      "text/plain": [
       "14003"
      ]
     },
     "execution_count": 11,
     "metadata": {},
     "output_type": "execute_result"
    }
   ],
   "source": [
    "np.count_nonzero(test)"
   ]
  },
  {
   "cell_type": "code",
   "execution_count": 12,
   "metadata": {
    "collapsed": false
   },
   "outputs": [
    {
     "name": "stdout",
     "output_type": "stream",
     "text": [
      "(16, 512, 512)\n"
     ]
    }
   ],
   "source": [
    "print (test.shape)"
   ]
  },
  {
   "cell_type": "code",
   "execution_count": 13,
   "metadata": {
    "collapsed": false
   },
   "outputs": [
    {
     "name": "stderr",
     "output_type": "stream",
     "text": [
      "100%|██████████| 1162/1162 [01:03<00:00, 18.35it/s]"
     ]
    },
    {
     "name": "stdout",
     "output_type": "stream",
     "text": [
      "Total images 1162, Num Zeros: 0\n"
     ]
    },
    {
     "name": "stderr",
     "output_type": "stream",
     "text": [
      "\n"
     ]
    }
   ],
   "source": [
    "file_list=glob(output_path1+\"images_*.npy\")\n",
    "num_zeros = 0\n",
    "total = 0\n",
    "for fcount, fname in enumerate(tqdm(file_list)):\n",
    "    #print \"working on file \", fname\n",
    "    imgs = np.load(fname)\n",
    "    nz = np.count_nonzero(imgs)\n",
    "    if nz == 0:\n",
    "        print('file %s is all zero..' % fname)\n",
    "        num_zeros = num_zeros + 1\n",
    "    total = total + 1\n",
    "print('Total images %s, Num Zeros: %s' % (total, num_zeros))"
   ]
  },
  {
   "cell_type": "code",
   "execution_count": 14,
   "metadata": {
    "collapsed": false
   },
   "outputs": [
    {
     "name": "stderr",
     "output_type": "stream",
     "text": [
      "100%|██████████| 1162/1162 [00:19<00:00, 59.73it/s]"
     ]
    },
    {
     "name": "stdout",
     "output_type": "stream",
     "text": [
      "Total images 18592, Num Zeros: 0\n"
     ]
    },
    {
     "name": "stderr",
     "output_type": "stream",
     "text": [
      "\n"
     ]
    }
   ],
   "source": [
    "file_list=glob(output_path1+\"images_*.npy\")\n",
    "num_zeros = 0\n",
    "total = 0\n",
    "for fcount, fname in enumerate(tqdm(file_list)):\n",
    "    #if fcount != 0:\n",
    "    #    continue\n",
    "    #print \"working on file \", fname\n",
    "    imgs = np.load(fname)\n",
    "    #print (imgs.shape)\n",
    "    for i in range(imgs.shape[0]):\n",
    "        img = imgs[i]\n",
    "        nz = np.count_nonzero(img)\n",
    "        if nz == 0:\n",
    "            print('image %d in file %s is all zero' % (i, fname))\n",
    "            num_zeros = num_zeros + 1\n",
    "        total = total + 1\n",
    "print('Total images %s, Num Zeros: %s' % (total, num_zeros))"
   ]
  },
  {
   "cell_type": "code",
   "execution_count": 15,
   "metadata": {
    "collapsed": false
   },
   "outputs": [
    {
     "name": "stderr",
     "output_type": "stream",
     "text": [
      "100%|██████████| 1162/1162 [00:35<00:00, 32.76it/s]"
     ]
    },
    {
     "name": "stdout",
     "output_type": "stream",
     "text": [
      "Total masks 1162, Num Zeros: 0\n"
     ]
    },
    {
     "name": "stderr",
     "output_type": "stream",
     "text": [
      "\n"
     ]
    }
   ],
   "source": [
    "file_list=glob(output_path+\"masks_*.npy\")\n",
    "num_zeros = 0\n",
    "total = 0\n",
    "for fcount, fname in enumerate(tqdm(file_list)):\n",
    "    #print \"working on file \", fname\n",
    "    masks = np.load(fname)\n",
    "    nz = np.count_nonzero(masks)\n",
    "    if nz == 0:\n",
    "        print('mask %s is all zero..' % fname)\n",
    "        num_zeros = num_zeros + 1\n",
    "    total = total + 1\n",
    "print('Total masks %s, Num Zeros: %s' % (total, num_zeros))"
   ]
  },
  {
   "cell_type": "code",
   "execution_count": 16,
   "metadata": {
    "collapsed": false
   },
   "outputs": [
    {
     "name": "stderr",
     "output_type": "stream",
     "text": [
      "100%|██████████| 1162/1162 [00:15<00:00, 72.74it/s]"
     ]
    },
    {
     "name": "stdout",
     "output_type": "stream",
     "text": [
      "Total masks 18592, Num Zeros: 0\n"
     ]
    },
    {
     "name": "stderr",
     "output_type": "stream",
     "text": [
      "\n"
     ]
    }
   ],
   "source": [
    "file_list=glob(output_path+\"masks_*.npy\")\n",
    "num_zeros = 0\n",
    "total = 0\n",
    "for fcount, fname in enumerate(tqdm(file_list)):\n",
    "    #print \"working on file \", fname\n",
    "    masks = np.load(fname)\n",
    "    for i in range(num_slices):\n",
    "        img = masks[i]\n",
    "        nz = np.count_nonzero(img)\n",
    "        if nz == 0:\n",
    "            print('mask %d in file %s is zero' % (i, fname))\n",
    "            num_zeros = num_zeros + 1\n",
    "        total = total + 1\n",
    "print('Total masks %s, Num Zeros: %s' % (total, num_zeros))"
   ]
  },
  {
   "cell_type": "code",
   "execution_count": null,
   "metadata": {
    "collapsed": true
   },
   "outputs": [],
   "source": []
  }
 ],
 "metadata": {
  "kernelspec": {
   "display_name": "Python 2",
   "language": "python",
   "name": "python2"
  },
  "language_info": {
   "codemirror_mode": {
    "name": "ipython",
    "version": 2
   },
   "file_extension": ".py",
   "mimetype": "text/x-python",
   "name": "python",
   "nbconvert_exporter": "python",
   "pygments_lexer": "ipython2",
   "version": "2.7.13"
  }
 },
 "nbformat": 4,
 "nbformat_minor": 2
}
