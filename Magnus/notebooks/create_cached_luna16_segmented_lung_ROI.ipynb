{
 "cells": [
  {
   "cell_type": "code",
   "execution_count": null,
   "metadata": {
    "collapsed": true
   },
   "outputs": [],
   "source": [
    "import numpy as np\n",
    "from skimage import morphology\n",
    "from skimage import measure\n",
    "from sklearn.cluster import KMeans\n",
    "from skimage.transform import resize\n",
    "from glob import glob\n",
    "try:\n",
    "    from tqdm import tqdm # long waits are not fun\n",
    "except:\n",
    "    print('TQDM does make much nicer wait bars...')\n",
    "    tqdm = lambda x: x\n"
   ]
  },
  {
   "cell_type": "code",
   "execution_count": null,
   "metadata": {
    "collapsed": true
   },
   "outputs": [],
   "source": [
    "# working_path = \"/home/watts/lal/Kaggle/lung_cancer/cache/luna16/02242017_41_41_7/\"\n",
    "working_path = \"/home/watts/lal/Kaggle/lung_cancer/cache/luna16/\"\n",
    "file_list=glob(working_path+\"images_*.npy\")\n"
   ]
  },
  {
   "cell_type": "code",
   "execution_count": null,
   "metadata": {
    "collapsed": true
   },
   "outputs": [],
   "source": [
    "for fcount, img_file in enumerate(tqdm(file_list)):\n",
    "    # I ran into an error when using Kmean on np.float16, so I'm using np.float64 here\n",
    "    imgs_to_process = np.load(img_file).astype(np.float64) \n",
    "    #print \"on image\", img_file\n",
    "    for i in range(len(imgs_to_process)):\n",
    "        img = imgs_to_process[i]\n",
    "        #Standardize the pixel values\n",
    "        mean = np.mean(img)\n",
    "        std = np.std(img)\n",
    "        img = img-mean\n",
    "        img = img/std\n",
    "        # Find the average pixel value near the lungs\n",
    "        # to renormalize washed out images\n",
    "        middle = img[100:400,100:400] \n",
    "        mean = np.mean(middle)  \n",
    "        max = np.max(img)\n",
    "        min = np.min(img)\n",
    "        # To improve threshold finding, I'm moving the \n",
    "        # underflow and overflow on the pixel spectrum\n",
    "        img[img==max]=mean\n",
    "        img[img==min]=mean\n",
    "        #\n",
    "        # Using Kmeans to separate foreground (radio-opaque tissue)\n",
    "        # and background (radio transparent tissue ie lungs)\n",
    "        # Doing this only on the center of the image to avoid \n",
    "        # the non-tissue parts of the image as much as possible\n",
    "        #\n",
    "        kmeans = KMeans(n_clusters=2).fit(np.reshape(middle,[np.prod(middle.shape),1]))\n",
    "        centers = sorted(kmeans.cluster_centers_.flatten())\n",
    "        threshold = np.mean(centers)\n",
    "        thresh_img = np.where(img<threshold,1.0,0.0)  # threshold the image\n",
    "        #\n",
    "        # I found an initial erosion helful for removing graininess from some of the regions\n",
    "        # and then large dialation is used to make the lung region \n",
    "        # engulf the vessels and incursions into the lung cavity by \n",
    "        # radio opaque tissue\n",
    "        #\n",
    "        eroded = morphology.erosion(thresh_img,np.ones([4,4]))\n",
    "        dilation = morphology.dilation(eroded,np.ones([10,10]))\n",
    "        #\n",
    "        #  Label each region and obtain the region properties\n",
    "        #  The background region is removed by removing regions \n",
    "        #  with a bbox that is to large in either dimnsion\n",
    "        #  Also, the lungs are generally far away from the top \n",
    "        #  and bottom of the image, so any regions that are too\n",
    "        #  close to the top and bottom are removed\n",
    "        #  This does not produce a perfect segmentation of the lungs\n",
    "        #  from the image, but it is surprisingly good considering its\n",
    "        #  simplicity. \n",
    "        #\n",
    "        labels = measure.label(dilation)\n",
    "        label_vals = np.unique(labels)\n",
    "        regions = measure.regionprops(labels)\n",
    "        good_labels = []\n",
    "        for prop in regions:\n",
    "            B = prop.bbox\n",
    "            if B[2]-B[0]<475 and B[3]-B[1]<475 and B[0]>40 and B[2]<472:\n",
    "                good_labels.append(prop.label)\n",
    "        mask = np.ndarray([512,512],dtype=np.int8)\n",
    "        #mask = np.ndarray([41,41],dtype=np.int8)\n",
    "        mask[:] = 0\n",
    "        #\n",
    "        #  The mask here is the mask for the lungs--not the nodes\n",
    "        #  After just the lungs are left, we do another large dilation\n",
    "        #  in order to fill in and out the lung mask \n",
    "        #\n",
    "        for N in good_labels:\n",
    "            mask = mask + np.where(labels==N,1,0)\n",
    "        mask = morphology.dilation(mask,np.ones([10,10])) # one last dilation\n",
    "        imgs_to_process[i] = mask\n",
    "    np.save(img_file.replace(\"images\",\"lungmask\"),imgs_to_process)\n",
    "    \n"
   ]
  },
  {
   "cell_type": "code",
   "execution_count": null,
   "metadata": {
    "collapsed": true
   },
   "outputs": [],
   "source": [
    "\n",
    "#\n",
    "#    Here we're applying the masks and cropping and resizing the image\n",
    "#\n",
    "\n",
    "\n",
    "file_list=glob(working_path+\"lungmask_*.npy\")\n",
    "out_images = []      #final set of images\n",
    "out_nodemasks = []   #final set of nodemasks\n",
    "for fcount, fname in enumerate(tqdm(file_list)):\n",
    "    #print \"working on file \", fname\n",
    "    imgs_to_process = np.load(fname.replace(\"lungmask\",\"images\"))\n",
    "    masks = np.load(fname)\n",
    "    node_masks = np.load(fname.replace(\"lungmask\",\"masks\"))\n",
    "    my_out_images = []\n",
    "    my_out_nodemasks = []\n",
    "    my_pad_img = imgs_to_process[0]\n",
    "    my_pad_nodemask = node_masks[0]\n",
    "    for i in range(len(imgs_to_process)):\n",
    "        mask = masks[i]\n",
    "        node_mask = node_masks[i]\n",
    "        img = imgs_to_process[i]\n",
    "        new_size = [512,512]   # we're scaling back up to the original size of the image\n",
    "        #new_size = [41,41]   \n",
    "        img= mask*img          # apply lung mask\n",
    "        #\n",
    "        # renormalizing the masked image (in the mask region)\n",
    "        #\n",
    "        new_mean = np.mean(img[mask>0])  \n",
    "        new_std = np.std(img[mask>0])\n",
    "        #\n",
    "        #  Pulling the background color up to the lower end\n",
    "        #  of the pixel range for the lungs\n",
    "        #\n",
    "        old_min = np.min(img)       # background color\n",
    "        img[img==old_min] = new_mean-1.2*new_std   # resetting backgound color\n",
    "        img = img-new_mean\n",
    "        img = img/new_std\n",
    "        #make image bounding box  (min row, min col, max row, max col)\n",
    "        labels = measure.label(mask)\n",
    "        regions = measure.regionprops(labels)\n",
    "        #\n",
    "        # Finding the global min and max row over all regions\n",
    "        #\n",
    "        min_row = 512\n",
    "        #min_row = 41\n",
    "        max_row = 0\n",
    "        min_col = 512\n",
    "        #min_col = 41\n",
    "        max_col = 0\n",
    "        for prop in regions:\n",
    "            B = prop.bbox\n",
    "            if min_row > B[0]:\n",
    "                min_row = B[0]\n",
    "            if min_col > B[1]:\n",
    "                min_col = B[1]\n",
    "            if max_row < B[2]:\n",
    "                max_row = B[2]\n",
    "            if max_col < B[3]:\n",
    "                max_col = B[3]\n",
    "        width = max_col-min_col\n",
    "        height = max_row - min_row\n",
    "        if width > height:\n",
    "            max_row=min_row+width\n",
    "        else:\n",
    "            max_col = min_col+height\n",
    "        # \n",
    "        # cropping the image down to the bounding box for all regions\n",
    "        # (there's probably an skimage command that can do this in one line)\n",
    "        # \n",
    "        img = img[min_row:max_row,min_col:max_col]\n",
    "        mask =  mask[min_row:max_row,min_col:max_col]\n",
    "        if max_row-min_row <5 or max_col-min_col<5:  # skipping all images with no good regions\n",
    "            pass\n",
    "        else:\n",
    "            # moving range to -1 to 1 to accomodate the resize function\n",
    "            \n",
    "            mean = np.mean(img)\n",
    "            img = img - mean\n",
    "            min = np.min(img)\n",
    "            max = np.max(img)\n",
    "            img = img/(max-min)\n",
    "            new_img = resize(img,[512,512])\n",
    "            #new_img = resize(img,[41,41])\n",
    "            new_node_mask = resize(node_mask[min_row:max_row,min_col:max_col],[512,512])\n",
    "            #new_node_mask = resize(node_mask[min_row:max_row,min_col:max_col],[41,41])\n",
    "            my_pad_img = new_img\n",
    "            my_pad_nodemask = new_node_mask\n",
    "            out_images.append(new_img)\n",
    "            out_nodemasks.append(new_node_mask)\n",
    "            my_out_images.append(new_img)\n",
    "            my_out_nodemasks.append(new_node_mask)\n",
    "    while(len(my_out_images) < 8):\n",
    "        my_out_images.append(my_pad_img)\n",
    "        my_out_nodemasks.append(my_pad_nodemask)\n",
    "    my_fname = fname.replace(\"lungmask\",\"my_images\")\n",
    "    my_nodemask_fname = fname.replace(\"lungmask\",\"my_masks\")\n",
    "    #print 'writing %s, %s' %(my_fname, my_nodemask_fname)\n",
    "    np.save(my_fname,my_out_images)\n",
    "    np.save(my_nodemask_fname,my_out_nodemasks) \n",
    "num_images = len(out_images)\n",
    "print num_images"
   ]
  },
  {
   "cell_type": "code",
   "execution_count": null,
   "metadata": {
    "collapsed": true
   },
   "outputs": [],
   "source": [
    "#\n",
    "#  Writing out images and masks as 1 channel arrays for input into network\n",
    "#\n",
    "final_images = np.ndarray([num_images,1,512,512],dtype=np.float32)\n",
    "final_masks = np.ndarray([num_images,1,512,512],dtype=np.float32)\n",
    "#final_images = np.ndarray([num_images,1,41,41],dtype=np.float32)\n",
    "#final_masks = np.ndarray([num_images,1,41,41],dtype=np.float32)\n",
    "for i in range(num_images):\n",
    "    final_images[i,0] = out_images[i]\n",
    "    final_masks[i,0] = out_nodemasks[i]\n",
    "\n",
    "rand_i = np.random.choice(range(num_images),size=num_images,replace=False)\n",
    "test_i = int(0.2*num_images)\n",
    "np.save(working_path+\"trainImages.npy\",final_images[rand_i[test_i:]])\n",
    "np.save(working_path+\"trainMasks.npy\",final_masks[rand_i[test_i:]])\n",
    "np.save(working_path+\"testImages.npy\",final_images[rand_i[:test_i]])\n",
    "np.save(working_path+\"testMasks.npy\",final_masks[rand_i[:test_i]])"
   ]
  },
  {
   "cell_type": "code",
   "execution_count": null,
   "metadata": {
    "collapsed": true
   },
   "outputs": [],
   "source": [
    "np.save(working_path+\"myTrainImages.npy\",final_images)\n",
    "np.save(working_path+\"myTrainMasks.npy\",final_masks)"
   ]
  },
  {
   "cell_type": "code",
   "execution_count": 1,
   "metadata": {
    "collapsed": false
   },
   "outputs": [
    {
     "ename": "NameError",
     "evalue": "name 'final_masks' is not defined",
     "output_type": "error",
     "traceback": [
      "\u001b[0;31m---------------------------------------------------------------------------\u001b[0m",
      "\u001b[0;31mNameError\u001b[0m                                 Traceback (most recent call last)",
      "\u001b[0;32m<ipython-input-1-1257ded8bac8>\u001b[0m in \u001b[0;36m<module>\u001b[0;34m()\u001b[0m\n\u001b[0;32m----> 1\u001b[0;31m \u001b[0mfinal_masks\u001b[0m\u001b[0;34m[\u001b[0m\u001b[0;36m0\u001b[0m\u001b[0;34m]\u001b[0m\u001b[0;34m\u001b[0m\u001b[0m\n\u001b[0m",
      "\u001b[0;31mNameError\u001b[0m: name 'final_masks' is not defined"
     ]
    }
   ],
   "source": []
  },
  {
   "cell_type": "code",
   "execution_count": null,
   "metadata": {
    "collapsed": true
   },
   "outputs": [],
   "source": [
    "# my_final_images = np.ndarray([num_images,1,7,41,41],dtype=np.float32)\n",
    "# for i, img_file in enumerate(tqdm(file_list)):\n",
    "#     imgs = np.load(img_file)\n",
    "#     if (7, 41, 41) != imgs.shape:\n",
    "#         print i\n",
    "#         print imgs.shape\n",
    "#     #print final_images[i,0].shape\n",
    "#     my_final_images[i,0] = imgs\n",
    "    \n",
    "# my_fname = working_path+'my_train_image.npy'\n",
    "# print 'writing %s' % my_fname\n",
    "# np.save(my_fname,my_final_images)"
   ]
  },
  {
   "cell_type": "code",
   "execution_count": null,
   "metadata": {
    "collapsed": true
   },
   "outputs": [],
   "source": [
    "#num_images = 1186\n",
    "# file_list=glob(working_path+\"my_masks_*.npy\")\n",
    "\n",
    "# final_masks = np.ndarray([num_images,1,7,41,41],dtype=np.float32)\n",
    "# for i, mask_file in enumerate(tqdm(file_list)):\n",
    "#     masks = np.load(mask_file)\n",
    "#     if (7, 41, 41) != masks.shape:\n",
    "#         print i\n",
    "#         print masks.shape\n",
    "#     #print final_images[i,0].shape\n",
    "#     final_masks[i,0] = masks\n",
    "    \n",
    "# my_fname = working_path+'my_train_masks.npy'\n",
    "# print 'writing %s' % my_fname\n",
    "# np.save(my_fname,final_masks)"
   ]
  },
  {
   "cell_type": "code",
   "execution_count": null,
   "metadata": {
    "collapsed": true
   },
   "outputs": [],
   "source": [
    "# rand_i = np.random.choice(range(num_images),size=num_images,replace=False)\n",
    "# test_i = int(0.2*num_images)\n",
    "# np.save(working_path+\"my_train_images.npy\",final_images[rand_i[test_i:]])\n",
    "# np.save(working_path+\"my_train_masks.npy\",final_masks[rand_i[test_i:]])\n",
    "# np.save(working_path+\"my_test_images.npy\",final_images[rand_i[:test_i]])\n",
    "# np.save(working_path+\"my_test_masks.npy\",final_masks[rand_i[:test_i]])"
   ]
  }
 ],
 "metadata": {
  "kernelspec": {
   "display_name": "Python 2",
   "language": "python",
   "name": "python2"
  },
  "language_info": {
   "codemirror_mode": {
    "name": "ipython",
    "version": 2
   },
   "file_extension": ".py",
   "mimetype": "text/x-python",
   "name": "python",
   "nbconvert_exporter": "python",
   "pygments_lexer": "ipython2",
   "version": "2.7.13"
  }
 },
 "nbformat": 4,
 "nbformat_minor": 2
}
