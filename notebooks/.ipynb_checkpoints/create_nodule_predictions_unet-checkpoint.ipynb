{
 "cells": [
  {
   "cell_type": "code",
   "execution_count": 1,
   "metadata": {
    "collapsed": false
   },
   "outputs": [
    {
     "name": "stderr",
     "output_type": "stream",
     "text": [
      "Using TensorFlow backend.\n",
      "/home/watts/anaconda2/lib/python2.7/site-packages/sklearn/cross_validation.py:44: DeprecationWarning: This module was deprecated in version 0.18 in favor of the model_selection module into which all the refactored classes and functions are moved. Also note that the interface of the new CV iterators are different from that of this module. This module will be removed in 0.20.\n",
      "  \"This module will be removed in 0.20.\", DeprecationWarning)\n"
     ]
    }
   ],
   "source": [
    "import os\n",
    "#os.environ['THEANO_FLAGS'] = 'floatX=float32,device=gpu0,nvcc.fastmath=True,lib.cnmem=0.85'\n",
    "#THEANO_FLAGS=device=gpu python -c \"import theano; print(theano.sandbox.cuda.device_properties(0))\"\n",
    "import keras\n",
    "#import theano\n",
    "\n",
    "import sklearn\n",
    "from sklearn.cross_validation import train_test_split, cross_val_score\n",
    "from sklearn.metrics import accuracy_score, precision_score, recall_score, precision_recall_curve, f1_score, confusion_matrix, roc_curve, auc, roc_auc_score\n",
    "from sklearn import metrics\n",
    "from skimage.transform import resize\n",
    "\n",
    "import gzip\n",
    "import numpy as np\n",
    "import pandas as pd\n",
    "import cPickle as pickle\n",
    "import time\n",
    "from datetime import datetime\n",
    "from keras_tqdm import TQDMCallback, TQDMNotebookCallback\n",
    "try:\n",
    "    from tqdm import tqdm # long waits are not fun\n",
    "except:\n",
    "    print('TQDM does make much nicer wait bars...')\n",
    "    tqdm = lambda x: x\n",
    "\n",
    "#import matplotlib\n",
    "#matplotlib.use(\"Pdf\")\n",
    "#import matplotlib.pyplot as plt\n",
    "#%matplotlib inline\n",
    "\n",
    "#from helper_functions import *\n",
    "\n",
    "from keras.layers import merge, Convolution2D, MaxPooling2D, Input, UpSampling2D\n",
    "from keras.layers import merge, Convolution3D, MaxPooling3D, Input, UpSampling3D\n",
    "from keras.layers import Dense, Activation, Dropout\n",
    "from keras.layers import LSTM\n",
    "from keras.models import Model\n",
    "from keras.optimizers import SGD\n",
    "from keras.optimizers import Adam\n",
    "from keras.callbacks import ModelCheckpoint, LearningRateScheduler\n",
    "from keras import backend as K\n",
    "\n",
    "K.set_image_dim_ordering('th')  # Theano dimension ordering in this code"
   ]
  },
  {
   "cell_type": "code",
   "execution_count": 2,
   "metadata": {
    "collapsed": true
   },
   "outputs": [],
   "source": [
    "working_path = \"/home/watts/lal/Kaggle/lung_cancer/\"\n",
    "model_path = \"/home/watts/lal/Kaggle/lung_cancer/models/\""
   ]
  },
  {
   "cell_type": "code",
   "execution_count": 3,
   "metadata": {
    "collapsed": true
   },
   "outputs": [],
   "source": [
    "def check_if_image_exists(fname):\n",
    "    fname = os.path.join(working_path+'data/stage1/stage1/', fname)\n",
    "    return os.path.exists(fname)\n",
    "\n",
    "def check_if_scan_exists(folder):\n",
    "    folder = os.path.join(working_path+'data/stage1/stage1/', folder)\n",
    "    return os.path.isdir(folder)\n",
    "\n",
    "def get_current_date():\n",
    "    return strftime('%Y%m%d')\n",
    "\n",
    "\n",
    "def load_images(df):\n",
    "    for i, row in df['ImageFile'].iterrows():\n",
    "        img = imread(row)\n",
    "        yield img"
   ]
  },
  {
   "cell_type": "code",
   "execution_count": 4,
   "metadata": {
    "collapsed": true
   },
   "outputs": [],
   "source": [
    "smooth = 1.\n",
    "\n",
    "def dice_coef(y_true, y_pred):\n",
    "    y_true_f = K.flatten(y_true)\n",
    "    y_pred_f = K.flatten(y_pred)\n",
    "    intersection = K.sum(y_true_f * y_pred_f)\n",
    "    return (2. * intersection + smooth) / (K.sum(y_true_f) + K.sum(y_pred_f) + smooth)\n",
    "\n",
    "def dice_coef_np(y_true,y_pred):\n",
    "    y_true_f = y_true.flatten()\n",
    "    y_pred_f = y_pred.flatten()\n",
    "    intersection = np.sum(y_true_f * y_pred_f)\n",
    "    return (2. * intersection + smooth) / (np.sum(y_true_f) + np.sum(y_pred_f) + smooth)\n",
    "\n",
    "def dice_coef_loss(y_true, y_pred):\n",
    "    return -dice_coef(y_true, y_pred)"
   ]
  },
  {
   "cell_type": "code",
   "execution_count": 5,
   "metadata": {
    "collapsed": false
   },
   "outputs": [
    {
     "name": "stdout",
     "output_type": "stream",
     "text": [
      "0 does not exists\n",
      "Empty DataFrame\n",
      "Columns: [id, cancer, scan_folder, exist]\n",
      "Index: []\n"
     ]
    }
   ],
   "source": [
    "df = pd.read_csv(working_path+'data/stage1/stage1_labels.csv')\n",
    "\n",
    "df['scan_folder'] = df['id']\n",
    "\n",
    "df['exist'] = df['scan_folder'].apply(check_if_scan_exists)\n",
    "\n",
    "print '%i does not exists' % (len(df) - df['exist'].sum())\n",
    "print df[~df['exist']]\n",
    "\n",
    "df = df[df['exist']]\n",
    "df = df.reset_index(drop=True)\n",
    "    "
   ]
  },
  {
   "cell_type": "code",
   "execution_count": 6,
   "metadata": {
    "collapsed": true
   },
   "outputs": [],
   "source": [
    "num_slices = 16\n",
    "img_width = 128\n",
    "img_height = 128"
   ]
  },
  {
   "cell_type": "code",
   "execution_count": 7,
   "metadata": {
    "collapsed": true
   },
   "outputs": [],
   "source": [
    "model_arch = 'model_unet_%d.json' % img_width\n",
    "model_weights = 'model_unet_%d.h5' % img_width"
   ]
  },
  {
   "cell_type": "code",
   "execution_count": 8,
   "metadata": {
    "collapsed": false
   },
   "outputs": [
    {
     "name": "stderr",
     "output_type": "stream",
     "text": [
      "/home/watts/anaconda2/lib/python2.7/site-packages/keras/engine/topology.py:1202: UserWarning: The `Merge` layer is deprecated and will be removed after 08/2017. Use instead layers from `keras.layers.merge`, e.g. `add`, `concatenate`, etc.\n",
      "  return cls(**config)\n"
     ]
    },
    {
     "name": "stdout",
     "output_type": "stream",
     "text": [
      "Loaded model from disk\n"
     ]
    }
   ],
   "source": [
    "# load json and create model\n",
    "from keras.models import model_from_json\n",
    "\n",
    "json_file = open(model_path+model_arch, 'r')\n",
    "loaded_model_json = json_file.read()\n",
    "json_file.close()\n",
    "model = model_from_json(loaded_model_json)\n",
    "\n",
    "# load weights into new model\n",
    "model.load_weights(model_path+model_weights)\n",
    "print(\"Loaded model from disk\")"
   ]
  },
  {
   "cell_type": "code",
   "execution_count": 9,
   "metadata": {
    "collapsed": true
   },
   "outputs": [],
   "source": [
    "model.compile(optimizer=Adam(lr=1.0e-5), loss=dice_coef_loss, metrics=[dice_coef])"
   ]
  },
  {
   "cell_type": "code",
   "execution_count": 10,
   "metadata": {
    "collapsed": true
   },
   "outputs": [],
   "source": [
    "import datetime"
   ]
  },
  {
   "cell_type": "code",
   "execution_count": null,
   "metadata": {
    "collapsed": false
   },
   "outputs": [],
   "source": [
    "IMG_PX_SIZE = img_width\n",
    "IMG_PX_SIZE_ORG = 512\n",
    "HM_SLICES = num_slices\n",
    "num_zeros = 0\n",
    "num_test = 1397 * num_slices\n",
    "segmented_lung_slices = np.ndarray([2,1,img_width,img_height],dtype=np.float32)\n",
    "my_nodules_mask = np.ndarray([num_slices,1,img_width,img_height],dtype=np.float32)\n",
    "\n",
    "for i, row in tqdm(df.iterrows(), total=len(df)):\n",
    "    #if i != 0:\n",
    "    #    continue\n",
    "    try:\n",
    "        scan_folder = row['scan_folder']\n",
    "        #print scan_folder\n",
    "        for j in range(num_slices):\n",
    "            X_segmented_lung_fname = working_path+'cache/X_segmented_lung_%s_%d_%d_%d.npy' % (scan_folder, j, IMG_PX_SIZE, IMG_PX_SIZE)\n",
    "            #print '0..'\n",
    "            segmented_lung = np.load(X_segmented_lung_fname)\n",
    "            #print segmented_lung.shape\n",
    "            #segmented_lung = resize(segmented_lung,[16, 128,128])\n",
    "            #print '1..'\n",
    "            segmented_lung_slices[0,0] = segmented_lung\n",
    "            my_nm = model.predict([segmented_lung_slices[0:1]], verbose=0)[0]\n",
    "            #print my_nm.shape\n",
    "            my_nodules_mask[j] = my_nm\n",
    "            #print '2..'\n",
    "        X_nodule_fname = working_path+'cache/X_nodule_%s_%d_%d.npy' % (scan_folder, IMG_PX_SIZE, IMG_PX_SIZE)\n",
    "        np.save(X_nodule_fname, my_nodules_mask)\n",
    "    except:\n",
    "        print '%s has failed' % i\n",
    "        #sys.exit(1)\n",
    "print 'Done'\n",
    "now = datetime.datetime.now()\n",
    "print now"
   ]
  },
  {
   "cell_type": "code",
   "execution_count": 15,
   "metadata": {
    "collapsed": false
   },
   "outputs": [
    {
     "name": "stdout",
     "output_type": "stream",
     "text": [
      "0 does not exists\n",
      "Empty DataFrame\n",
      "Columns: [id, cancer, scan_folder, exist]\n",
      "Index: []\n"
     ]
    }
   ],
   "source": [
    "df = pd.read_csv(working_path+'data/stage1/stage1_sample_submission.csv')\n",
    "\n",
    "df['scan_folder'] = df['id']\n",
    "\n",
    "df['exist'] = df['scan_folder'].apply(check_if_scan_exists)\n",
    "\n",
    "print '%i does not exists' % (len(df) - df['exist'].sum())\n",
    "print df[~df['exist']]\n",
    "\n",
    "df = df[df['exist']]\n",
    "df = df.reset_index(drop=True)\n",
    "    "
   ]
  },
  {
   "cell_type": "code",
   "execution_count": 18,
   "metadata": {
    "collapsed": false
   },
   "outputs": [
    {
     "name": "stderr",
     "output_type": "stream",
     "text": [
      "100%|██████████| 198/198 [00:18<00:00,  9.53it/s]\n"
     ]
    },
    {
     "name": "stdout",
     "output_type": "stream",
     "text": [
      "Done\n",
      "2017-04-04 20:17:36.035368\n"
     ]
    }
   ],
   "source": [
    "IMG_PX_SIZE = img_width\n",
    "IMG_PX_SIZE_ORG = 512\n",
    "HM_SLICES = num_slices\n",
    "num_zeros = 0\n",
    "num_test = 198 * num_slices\n",
    "#print num_test\n",
    "test_lung_slices = np.ndarray([1,1,img_width,img_height],dtype=np.float32)\n",
    "my_nodules_mask = np.ndarray([num_slices,1,img_width,img_height],dtype=np.float32)\n",
    "\n",
    "for i, row in tqdm(df.iterrows(), total=len(df)):\n",
    "    #if i != 0:\n",
    "    #    continue\n",
    "    try:\n",
    "        scan_folder = row['scan_folder']\n",
    "        for j in range(num_slices):\n",
    "            X_segmented_lung_fname = working_path+'cache/X_test_segmented_lung_%s_%d_%d_%d.npy' % (scan_folder, j, IMG_PX_SIZE, IMG_PX_SIZE)\n",
    "            #print '0..'\n",
    "            segmented_lung = np.load(X_segmented_lung_fname)\n",
    "            #print segmented_lung.shape\n",
    "            #segmented_lung = resize(segmented_lung,[16, 128,128])\n",
    "            #print '1..'\n",
    "            segmented_lung_slices[0,0] = segmented_lung\n",
    "            my_nm = model.predict([segmented_lung_slices[0:1]], verbose=0)[0]\n",
    "            #print my_nm.shape\n",
    "            my_nodules_mask[j] = my_nm\n",
    "            #print '2..'\n",
    "        X_nodule_fname = working_path+'cache/X_test_nodule_%s_%d_%d.npy' % (scan_folder, IMG_PX_SIZE, IMG_PX_SIZE)\n",
    "        np.save(X_nodule_fname, my_nodules_mask)\n",
    "    except:\n",
    "        print '%s has failed' % i\n",
    "        #sys.exit(1)\n",
    "print 'Done'\n",
    "now = datetime.datetime.now()\n",
    "print now"
   ]
  },
  {
   "cell_type": "code",
   "execution_count": null,
   "metadata": {
    "collapsed": true
   },
   "outputs": [],
   "source": []
  }
 ],
 "metadata": {
  "kernelspec": {
   "display_name": "Python 2",
   "language": "python",
   "name": "python2"
  },
  "language_info": {
   "codemirror_mode": {
    "name": "ipython",
    "version": 2
   },
   "file_extension": ".py",
   "mimetype": "text/x-python",
   "name": "python",
   "nbconvert_exporter": "python",
   "pygments_lexer": "ipython2",
   "version": "2.7.13"
  }
 },
 "nbformat": 4,
 "nbformat_minor": 2
}
