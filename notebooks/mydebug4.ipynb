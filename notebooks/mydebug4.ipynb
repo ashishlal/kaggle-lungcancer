{
 "cells": [
  {
   "cell_type": "code",
   "execution_count": 1,
   "metadata": {
    "collapsed": false
   },
   "outputs": [
    {
     "name": "stdout",
     "output_type": "stream",
     "text": [
      "/home/watts/lal/medicine-ai/lung_cancer\n"
     ]
    }
   ],
   "source": [
    "cd /home/watts/lal/Kaggle/lung_cancer"
   ]
  },
  {
   "cell_type": "code",
   "execution_count": 2,
   "metadata": {
    "collapsed": true
   },
   "outputs": [],
   "source": [
    "#from __future__ import print_function, division\n",
    "import os\n",
    "import SimpleITK as sitk\n",
    "import numpy as np\n",
    "import csv\n",
    "from glob import glob\n",
    "import pandas as pd\n",
    "try:\n",
    "    from tqdm import tqdm # long waits are not fun\n",
    "except:\n",
    "    print('TQDM does make much nicer wait bars...')\n",
    "    tqdm = lambda x: x"
   ]
  },
  {
   "cell_type": "code",
   "execution_count": 3,
   "metadata": {
    "collapsed": true
   },
   "outputs": [],
   "source": [
    "luna_path = \"/home/watts/lal/Kaggle/lung_cancer/data_luna16/\"\n",
    "luna_subset_path = luna_path+\"subset0/\"\n",
    "output_path = \"/home/watts/lal/Kaggle/lung_cancer/cache/luna16/\"\n",
    "file_list=glob(luna_subset_path+\"*.mhd\")"
   ]
  },
  {
   "cell_type": "code",
   "execution_count": 4,
   "metadata": {
    "collapsed": true
   },
   "outputs": [],
   "source": [
    "def make_mask(center,diam,z,width,height,spacing,origin):\n",
    "    '''\n",
    "Center : centers of circles px -- list of coordinates x,y,z\n",
    "diam : diameters of circles px -- diameter\n",
    "widthXheight : pixel dim of image\n",
    "spacing = mm/px conversion rate np array x,y,z\n",
    "origin = x,y,z mm np.array\n",
    "z = z position of slice in world coordinates mm\n",
    "    '''\n",
    "    mask = np.zeros([height,width]) # 0's everywhere except nodule swapping x,y to match img\n",
    "    #convert to nodule space from world coordinates\n",
    "\n",
    "    # Defining the voxel range in which the nodule falls\n",
    "    v_center = (center-origin)/spacing\n",
    "    v_diam = int(diam/spacing[0]+5)\n",
    "    v_xmin = np.max([0,int(v_center[0]-v_diam)-5])\n",
    "    v_xmax = np.min([width-1,int(v_center[0]+v_diam)+5])\n",
    "    v_ymin = np.max([0,int(v_center[1]-v_diam)-5]) \n",
    "    v_ymax = np.min([height-1,int(v_center[1]+v_diam)+5])\n",
    "\n",
    "    v_xrange = range(v_xmin,v_xmax+1)\n",
    "    v_yrange = range(v_ymin,v_ymax+1)\n",
    "\n",
    "    # Convert back to world coordinates for distance calculation\n",
    "    x_data = [x*spacing[0]+origin[0] for x in range(width)]\n",
    "    y_data = [x*spacing[1]+origin[1] for x in range(height)]\n",
    "\n",
    "    # Fill in 1 within sphere around nodule\n",
    "    for v_x in v_xrange:\n",
    "        for v_y in v_yrange:\n",
    "            p_x = spacing[0]*v_x + origin[0]\n",
    "            p_y = spacing[1]*v_y + origin[1]\n",
    "            if np.linalg.norm(center-np.array([p_x,p_y,z]))<=diam:\n",
    "                mask[int((p_y-origin[1])/spacing[1]),int((p_x-origin[0])/spacing[0])] = 1.0\n",
    "    return(mask)\n",
    "\n",
    "def matrix2int16(matrix):\n",
    "    ''' \n",
    "matrix must be a numpy array NXN\n",
    "Returns uint16 version\n",
    "    '''\n",
    "    m_min= np.min(matrix)\n",
    "    m_max= np.max(matrix)\n",
    "    matrix = matrix-m_min\n",
    "    return(np.array(np.rint( (matrix-m_min)/float(m_max-m_min) * 65535.0),dtype=np.uint16))\n",
    "\n",
    "#####################\n",
    "#\n",
    "# Helper function to get rows in data frame associated \n",
    "# with each file\n",
    "def get_filename(file_list, case):\n",
    "    for f in file_list:\n",
    "        if case in f:\n",
    "            return(f)"
   ]
  },
  {
   "cell_type": "code",
   "execution_count": 5,
   "metadata": {
    "collapsed": false
   },
   "outputs": [],
   "source": [
    "#\n",
    "# The locations of the nodes\n",
    "df_node = pd.read_csv(luna_path+\"annotations.csv\")\n",
    "df_node[\"file\"] = df_node[\"seriesuid\"].map(lambda file_name: get_filename(file_list, file_name))\n",
    "df_node = df_node.dropna()"
   ]
  },
  {
   "cell_type": "code",
   "execution_count": null,
   "metadata": {
    "collapsed": false
   },
   "outputs": [
    {
     "name": "stderr",
     "output_type": "stream",
     "text": [
      "  1%|          | 1/89 [00:00<00:18,  4.68it/s]"
     ]
    },
    {
     "name": "stdout",
     "output_type": "stream",
     "text": [
      "(177, 512, 512)\n",
      "(0, 70)\n",
      "(1, 71)\n",
      "(2, 72)\n",
      "(3, 73)\n",
      "(4, 74)\n",
      "(5, 75)\n",
      "(0, 73)\n",
      "(1, 74)\n",
      "(2, 75)\n",
      "(3, 76)\n",
      "(4, 77)\n",
      "(5, 78)\n",
      "(127, 512, 512)\n",
      "(0, 108)\n"
     ]
    },
    {
     "name": "stderr",
     "output_type": "stream",
     "text": [
      "\r",
      "  2%|▏         | 2/89 [00:00<00:17,  5.08it/s]"
     ]
    },
    {
     "name": "stdout",
     "output_type": "stream",
     "text": [
      "(1, 109)\n",
      "(2, 110)\n",
      "(3, 111)\n",
      "(4, 112)\n",
      "(5, 113)\n"
     ]
    },
    {
     "name": "stderr",
     "output_type": "stream",
     "text": [
      "\r",
      "  3%|▎         | 3/89 [00:00<00:16,  5.07it/s]"
     ]
    },
    {
     "name": "stdout",
     "output_type": "stream",
     "text": [
      "(280, 512, 512)\n",
      "(0, 213)\n",
      "(1, 214)\n",
      "(2, 215)\n",
      "(3, 216)\n",
      "(4, 217)\n",
      "(5, 218)\n",
      "(157, 512, 512)\n",
      "(0, 83)\n",
      "(1, 84)\n",
      "(2, 85)\n",
      "(3, 86)\n",
      "(4, 87)\n"
     ]
    },
    {
     "name": "stderr",
     "output_type": "stream",
     "text": [
      "  6%|▌         | 5/89 [00:00<00:14,  5.62it/s]"
     ]
    },
    {
     "name": "stdout",
     "output_type": "stream",
     "text": [
      "(5, 88)\n",
      "(133, 512, 512)\n",
      "(0, 80)\n",
      "(1, 81)\n",
      "(2, 82)\n",
      "(3, 83)\n",
      "(4, 84)\n",
      "(5, 85)\n",
      "(250, 512, 512)\n",
      "(0, 51)\n",
      "(1, 52)\n",
      "(2, 53)\n",
      "(3, 54)\n",
      "(4, 55)\n",
      "(5, 56)\n",
      "(0, 51)\n",
      "(1, 52)\n",
      "(2, 53)\n",
      "(3, 54)\n",
      "(4, 55)\n",
      "(5, 56)\n"
     ]
    },
    {
     "name": "stderr",
     "output_type": "stream",
     "text": [
      "\r",
      "  7%|▋         | 6/89 [00:01<00:19,  4.28it/s]"
     ]
    },
    {
     "name": "stdout",
     "output_type": "stream",
     "text": [
      "(0, 71)\n",
      "(1, 72)\n",
      "(2, 73)\n",
      "(3, 74)\n",
      "(4, 75)\n",
      "(5, 76)\n",
      "(246, 512, 512)\n",
      "(0, 91)\n",
      "(1, 92)\n",
      "(2, 93)\n",
      "(3, 94)\n",
      "(4, 95)\n",
      "(5, 96)\n",
      "(0, 89)\n",
      "(1, 90)\n",
      "(2, 91)\n",
      "(3, 92)\n",
      "(4, 93)\n",
      "(5, 94)\n"
     ]
    },
    {
     "name": "stderr",
     "output_type": "stream",
     "text": [
      "  9%|▉         | 8/89 [00:03<00:57,  1.40it/s]"
     ]
    },
    {
     "name": "stdout",
     "output_type": "stream",
     "text": [
      "(474, 512, 512)\n",
      "(0, 214)\n",
      "(1, 215)\n",
      "(2, 216)\n",
      "(3, 217)\n",
      "(4, 218)\n",
      "(5, 219)\n",
      "(276, 512, 512)\n",
      "(0, 198)\n",
      "(1, 199)\n",
      "(2, 200)\n",
      "(3, 201)\n",
      "(4, 202)\n",
      "(5, 203)\n",
      "(0, 102)\n",
      "(1, 103)\n",
      "(2, 104)\n",
      "(3, 105)\n"
     ]
    },
    {
     "name": "stderr",
     "output_type": "stream",
     "text": [
      "\r",
      " 11%|█         | 10/89 [00:04<00:58,  1.35it/s]"
     ]
    },
    {
     "name": "stdout",
     "output_type": "stream",
     "text": [
      "(4, 106)\n",
      "(5, 107)\n",
      "(0, 211)\n",
      "(1, 212)\n",
      "(2, 213)\n",
      "(3, 214)\n",
      "(4, 215)\n",
      "(5, 216)\n",
      "(125, 512, 512)\n",
      "(0, 44)\n",
      "(1, 45)\n",
      "(2, 46)\n",
      "(3, 47)\n",
      "(4, 48)\n",
      "(5, 49)\n",
      "(0, 61)\n",
      "(1, 62)\n",
      "(2, 63)\n",
      "(3, 64)\n",
      "(4, 65)\n",
      "(5, 66)\n"
     ]
    },
    {
     "name": "stderr",
     "output_type": "stream",
     "text": [
      " 13%|█▎        | 12/89 [00:08<01:32,  1.20s/it]"
     ]
    },
    {
     "name": "stdout",
     "output_type": "stream",
     "text": [
      "(483, 512, 512)\n",
      "(0, 369)\n",
      "(1, 370)\n",
      "(2, 371)\n",
      "(3, 372)\n",
      "(4, 373)\n",
      "(5, 374)\n",
      "(733, 512, 512)\n",
      "(0, 583)\n",
      "(1, 584)\n",
      "(2, 585)\n",
      "(3, 586)\n",
      "(4, 587)\n",
      "(5, 588)\n",
      "(0, 448)\n",
      "(1, 449)\n"
     ]
    },
    {
     "name": "stderr",
     "output_type": "stream",
     "text": [
      "\r",
      " 15%|█▍        | 13/89 [00:11<02:12,  1.74s/it]"
     ]
    },
    {
     "name": "stdout",
     "output_type": "stream",
     "text": [
      "(2, 450)\n",
      "(3, 451)\n",
      "(4, 452)\n",
      "(5, 453)\n",
      "(0, 662)\n",
      "(1, 663)\n",
      "(2, 664)\n",
      "(3, 665)\n",
      "(4, 666)\n",
      "(5, 667)\n"
     ]
    },
    {
     "name": "stderr",
     "output_type": "stream",
     "text": [
      "\r",
      " 16%|█▌        | 14/89 [00:11<01:46,  1.42s/it]"
     ]
    },
    {
     "name": "stdout",
     "output_type": "stream",
     "text": [
      "(139, 512, 512)\n",
      "(0, 60)\n",
      "(1, 61)\n",
      "(2, 62)\n",
      "(3, 63)\n",
      "(4, 64)\n",
      "(5, 65)\n",
      "(209, 512, 512)\n",
      "(0, 178)\n",
      "(1, 179)\n",
      "(2, 180)\n",
      "(3, 181)\n",
      "(4, 182)\n"
     ]
    },
    {
     "name": "stderr",
     "output_type": "stream",
     "text": [
      "\r",
      " 17%|█▋        | 15/89 [00:12<01:36,  1.30s/it]"
     ]
    },
    {
     "name": "stdout",
     "output_type": "stream",
     "text": [
      "(5, 183)\n"
     ]
    },
    {
     "name": "stderr",
     "output_type": "stream",
     "text": [
      "\r",
      " 18%|█▊        | 16/89 [00:13<01:22,  1.13s/it]"
     ]
    },
    {
     "name": "stdout",
     "output_type": "stream",
     "text": [
      "(176, 512, 512)\n",
      "(0, 68)\n",
      "(1, 69)\n",
      "(2, 70)\n",
      "(3, 71)\n",
      "(4, 72)\n",
      "(5, 73)\n",
      "(127, 512, 512)\n",
      "(0, 107)\n",
      "(1, 108)\n",
      "(2, 109)\n",
      "(3, 110)\n"
     ]
    },
    {
     "name": "stderr",
     "output_type": "stream",
     "text": [
      "\r",
      " 19%|█▉        | 17/89 [00:14<01:14,  1.03s/it]"
     ]
    },
    {
     "name": "stdout",
     "output_type": "stream",
     "text": [
      "(4, 111)\n",
      "(5, 112)\n",
      "(280, 512, 512)\n",
      "(0, 212)\n",
      "(1, 213)\n",
      "(2, 214)\n",
      "(3, 215)\n",
      "(4, 216)\n",
      "(5, 217)\n",
      "(0, 47)\n",
      "(1, 48)\n"
     ]
    },
    {
     "name": "stderr",
     "output_type": "stream",
     "text": [
      "\r",
      " 20%|██        | 18/89 [00:15<01:19,  1.12s/it]"
     ]
    },
    {
     "name": "stdout",
     "output_type": "stream",
     "text": [
      "(2, 49)\n",
      "(3, 50)\n",
      "(4, 51)\n",
      "(5, 52)\n"
     ]
    },
    {
     "name": "stderr",
     "output_type": "stream",
     "text": [
      "\r",
      " 25%|██▍       | 22/89 [00:17<01:01,  1.08it/s]"
     ]
    },
    {
     "name": "stdout",
     "output_type": "stream",
     "text": [
      "(471, 512, 512)\n",
      "(0, 54)\n",
      "(1, 55)\n",
      "(2, 56)\n",
      "(3, 57)\n",
      "(4, 58)\n",
      "(5, 59)\n"
     ]
    },
    {
     "name": "stderr",
     "output_type": "stream",
     "text": [
      "\r",
      " 26%|██▌       | 23/89 [00:18<01:02,  1.05it/s]"
     ]
    },
    {
     "name": "stdout",
     "output_type": "stream",
     "text": [
      "(250, 512, 512)\n",
      "(0, 199)\n",
      "(1, 200)\n",
      "(2, 201)\n",
      "(3, 202)\n",
      "(4, 203)\n",
      "(5, 204)\n",
      "(0, 176)\n",
      "(1, 177)\n",
      "(2, 178)\n",
      "(3, 179)\n",
      "(4, 180)\n",
      "(5, 181)\n"
     ]
    },
    {
     "name": "stderr",
     "output_type": "stream",
     "text": [
      "\r",
      " 27%|██▋       | 24/89 [00:19<01:07,  1.04s/it]"
     ]
    },
    {
     "name": "stdout",
     "output_type": "stream",
     "text": [
      "(297, 512, 512)\n",
      "(0, 188)\n",
      "(1, 189)\n",
      "(2, 190)\n",
      "(3, 191)\n",
      "(4, 192)\n",
      "(5, 193)\n"
     ]
    },
    {
     "name": "stderr",
     "output_type": "stream",
     "text": [
      "\r",
      " 28%|██▊       | 25/89 [00:20<00:57,  1.11it/s]"
     ]
    },
    {
     "name": "stdout",
     "output_type": "stream",
     "text": [
      "(119, 512, 512)\n",
      "(0, 32)\n",
      "(1, 33)\n",
      "(2, 34)\n",
      "(3, 35)\n",
      "(4, 36)\n",
      "(5, 37)\n"
     ]
    },
    {
     "name": "stderr",
     "output_type": "stream",
     "text": [
      "\r",
      " 29%|██▉       | 26/89 [00:21<00:51,  1.22it/s]"
     ]
    },
    {
     "name": "stdout",
     "output_type": "stream",
     "text": [
      "(140, 512, 512)\n",
      "(0, 55)\n",
      "(1, 56)\n",
      "(2, 57)\n",
      "(3, 58)\n",
      "(4, 59)\n",
      "(5, 60)\n"
     ]
    }
   ],
   "source": [
    "num_slices = 8\n",
    "for fcount, img_file in enumerate(tqdm(file_list)):\n",
    "    mini_df = df_node[df_node[\"file\"]==img_file] #get all nodules associate with file\n",
    "    if mini_df.shape[0]>0: # some files may not have a nodule--skipping those \n",
    "        # load the data once\n",
    "        itk_img = sitk.ReadImage(img_file) \n",
    "        img_array = sitk.GetArrayFromImage(itk_img) # indexes are z,y,x (notice the ordering)\n",
    "        num_z, height, width = img_array.shape        #heightXwidth constitute the transverse plane\n",
    "        # print(num_z, height, width)\n",
    "        origin = np.array(itk_img.GetOrigin())      # x,y,z  Origin in world coordinates (mm)\n",
    "        spacing = np.array(itk_img.GetSpacing())    # spacing of voxels in world coor. (mm)\n",
    "        # go through all nodes (why just the biggest?)\n",
    "        for node_idx, cur_row in mini_df.iterrows():       \n",
    "            node_x = cur_row[\"coordX\"]\n",
    "            node_y = cur_row[\"coordY\"]\n",
    "            node_z = cur_row[\"coordZ\"]\n",
    "            diam = cur_row[\"diameter_mm\"]\n",
    "            # just keep 6 slices\n",
    "            imgs = np.ndarray([num_slices,height,width],dtype=np.float32)\n",
    "            masks = np.ndarray([num_slices,height,width],dtype=np.uint8)\n",
    "            center = np.array([node_x, node_y, node_z])   # nodule center\n",
    "            v_center = np.rint((center-origin)/spacing)  # nodule center in voxel space (still x,y,z ordering)\n",
    "            for i, i_z in enumerate(np.arange(int(v_center[2])-1,\n",
    "                             int(v_center[2])+num_slices-1).clip(0, num_z-1)): # clip prevents going out of bounds in Z\n",
    "                # print(i, i_z)\n",
    "                mask = make_mask(center, diam, i_z*spacing[2]+origin[2],\n",
    "                                 width, height, spacing, origin)\n",
    "                masks[i] = mask\n",
    "                imgs[i] = img_array[i_z]\n",
    "            np.save(os.path.join(output_path,\"images_%04d_%04d.npy\" % (fcount, node_idx)),imgs)\n",
    "            np.save(os.path.join(output_path,\"masks_%04d_%04d.npy\" % (fcount, node_idx)),masks)"
   ]
  },
  {
   "cell_type": "code",
   "execution_count": null,
   "metadata": {
    "collapsed": true
   },
   "outputs": [],
   "source": []
  }
 ],
 "metadata": {
  "kernelspec": {
   "display_name": "Python 2",
   "language": "python",
   "name": "python2"
  },
  "language_info": {
   "codemirror_mode": {
    "name": "ipython",
    "version": 2
   },
   "file_extension": ".py",
   "mimetype": "text/x-python",
   "name": "python",
   "nbconvert_exporter": "python",
   "pygments_lexer": "ipython2",
   "version": "2.7.13"
  }
 },
 "nbformat": 4,
 "nbformat_minor": 2
}
