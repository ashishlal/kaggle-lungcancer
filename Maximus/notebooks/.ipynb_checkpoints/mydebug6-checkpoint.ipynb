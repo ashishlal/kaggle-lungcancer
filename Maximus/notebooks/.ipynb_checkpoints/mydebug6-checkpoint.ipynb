{
 "cells": [
  {
   "cell_type": "code",
   "execution_count": 1,
   "metadata": {
    "collapsed": false
   },
   "outputs": [
    {
     "name": "stderr",
     "output_type": "stream",
     "text": [
      "WARNING (theano.sandbox.cuda): The cuda backend is deprecated and will be removed in the next release (v0.10).  Please switch to the gpuarray backend. You can get more information about how to switch at this URL:\n",
      " https://github.com/Theano/Theano/wiki/Converting-to-the-new-gpu-back-end%28gpuarray%29\n",
      "\n",
      "Using gpu device 0: GeForce GTX 970 (CNMeM is enabled with initial size: 85.0% of memory, cuDNN 5110)\n",
      "/home/watts/anaconda2/lib/python2.7/site-packages/sklearn/cross_validation.py:44: DeprecationWarning: This module was deprecated in version 0.18 in favor of the model_selection module into which all the refactored classes and functions are moved. Also note that the interface of the new CV iterators are different from that of this module. This module will be removed in 0.20.\n",
      "  \"This module will be removed in 0.20.\", DeprecationWarning)\n"
     ]
    }
   ],
   "source": [
    "import os\n",
    "os.environ['THEANO_FLAGS'] = 'floatX=float32,device=gpu0,nvcc.fastmath=True,lib.cnmem=0.85'\n",
    "#THEANO_FLAGS=device=gpu python -c \"import theano; print(theano.sandbox.cuda.device_properties(0))\"\n",
    "import lasagne\n",
    "import theano\n",
    "\n",
    "import sklearn\n",
    "from sklearn.cross_validation import train_test_split, cross_val_score\n",
    "from sklearn.metrics import accuracy_score, precision_score, recall_score, precision_recall_curve, f1_score, confusion_matrix, roc_curve, auc, roc_auc_score\n",
    "from sklearn import metrics\n",
    "\n",
    "from lasagne import layers\n",
    "from lasagne.nonlinearities import  sigmoid, softmax, rectify, tanh, linear\n",
    "from lasagne.updates import nesterov_momentum, adagrad, adam\n",
    "from nolearn.lasagne import NeuralNet\n",
    "import lasagne.layers.dnn\n",
    "\n",
    "import gzip\n",
    "import numpy as np\n",
    "import pandas as pd\n",
    "import cPickle as pickle\n",
    "import time\n",
    "from datetime import datetime\n",
    "\n",
    "\n",
    "import matplotlib\n",
    "matplotlib.use(\"Pdf\")\n",
    "import matplotlib.pyplot as plt\n",
    "%matplotlib inline\n",
    "\n",
    "#from helper_functions import *\n",
    "\n",
    "working_path = \"/home/watts/lal/Kaggle/lung_cancer/cache/luna16/02242017_41_41_7/\""
   ]
  },
  {
   "cell_type": "code",
   "execution_count": 159,
   "metadata": {
    "collapsed": false
   },
   "outputs": [],
   "source": [
    "#Load and reshape data\n",
    "#train_x = pickle.load(open(\"/home/ubuntu/41_41_7_train_test/train_x.p\",\"rb\"))\n",
    "#train_y = pickle.load(open(\"/home/ubuntu/41_41_7_train_test/train_y.p\",\"rb\"))\n",
    "#test_x = pickle.load(open(\"/home/ubuntu/41_41_7_train_test/test_x.p\",\"rb\"))\n",
    "#test_y = pickle.load(open(\"/home/ubuntu/41_41_7_train_test/test_y.p\",\"rb\"))\n",
    "\n",
    "#train_x = train_x.astype(np.float32)\n",
    "#train_y = train_y.astype(np.int32)\n",
    "#test_x = test_x.astype(np.float32)\n",
    "#test_y = test_y.astype(np.int32)\n",
    "\n",
    "#train_x = train_x.reshape(train_x.shape[0],1,train_x.shape[1],train_x.shape[2],train_x.shape[3])\n",
    "#test_x = test_x.reshape(test_x.shape[0],1,test_x.shape[1],test_x.shape[2],test_x.shape[3])\n",
    "\n",
    "imgs_train = np.load(working_path+\"my_train_images.npy\").astype(np.float32)\n",
    "imgs_mask_train = np.load(working_path+\"my_train_masks.npy\").astype(np.float32)\n",
    "\n",
    "imgs_test = np.load(working_path+\"my_test_images.npy\").astype(np.float32)\n",
    "imgs_mask_test_true = np.load(working_path+\"my_test_masks.npy\").astype(np.float32)\n",
    "    \n",
    "mean = np.mean(imgs_train)  # mean for data centering\n",
    "std = np.std(imgs_train)  # std for data normalization\n",
    "\n",
    "imgs_train -= mean  # images should already be standardized, but just in case\n",
    "imgs_train /= std\n",
    "\n",
    "train_x = imgs_train\n",
    "train_y = imgs_mask_train\n",
    "\n",
    "test_x = imgs_test\n",
    "test_y = imgs_mask_test_true\n",
    "\n"
   ]
  },
  {
   "cell_type": "code",
   "execution_count": 160,
   "metadata": {
    "collapsed": true
   },
   "outputs": [],
   "source": [
    "from skimage import measure, morphology\n",
    "from mpl_toolkits.mplot3d.art3d import Poly3DCollection\n",
    "\n",
    "def plot_ct_scan(scan):\n",
    "    f, plots = plt.subplots(int(scan.shape[0] / 20) + 1, 4, figsize=(25, 25))\n",
    "    for i in range(0, scan.shape[0], 5):\n",
    "        plots[int(i / 20), int((i % 20) / 5)].axis('off')\n",
    "        plots[int(i / 20), int((i % 20) / 5)].imshow(scan[i], cmap=plt.cm.bone) \n",
    "        \n",
    "def plot_ct_scan_my(scan):\n",
    "    f, plots = plt.subplots(int(scan.shape[1] / 3) + 1, 4, figsize=(3, 3))\n",
    "    for i in range(0, scan.shape[1], 5):\n",
    "        plots[int(i / 3), int((i % 3) / 5)].axis('off')\n",
    "        plots[int(i / 3), int((i % 3) / 5)].imshow(scan[i], cmap=plt.cm.bone) \n",
    "def plot_3d(image, threshold=-300):\n",
    "    \n",
    "    # Position the scan upright, \n",
    "    # so the head of the patient would be at the top facing the camera\n",
    "    p = image.transpose(2,1,0)\n",
    "    #p =image\n",
    "    verts, faces = measure.marching_cubes(p, threshold)\n",
    "\n",
    "    fig = plt.figure(figsize=(10, 10))\n",
    "    ax = fig.add_subplot(111, projection='3d')\n",
    "\n",
    "    # Fancy indexing: `verts[faces]` to generate a collection of triangles\n",
    "    mesh = Poly3DCollection(verts[faces], alpha=0.1)\n",
    "    face_color = [0.5, 0.5, 1]\n",
    "    mesh.set_facecolor(face_color)\n",
    "    ax.add_collection3d(mesh)\n",
    "\n",
    "    ax.set_xlim(0, p.shape[0])\n",
    "    ax.set_ylim(0, p.shape[1])\n",
    "    ax.set_zlim(0, p.shape[2])\n",
    "\n",
    "    plt.show()\n"
   ]
  },
  {
   "cell_type": "code",
   "execution_count": 161,
   "metadata": {
    "collapsed": false
   },
   "outputs": [
    {
     "data": {
      "text/plain": [
       "(1, 7, 41, 41)"
      ]
     },
     "execution_count": 161,
     "metadata": {},
     "output_type": "execute_result"
    }
   ],
   "source": [
    "imgs_train[0].shape"
   ]
  },
  {
   "cell_type": "code",
   "execution_count": null,
   "metadata": {
    "collapsed": true
   },
   "outputs": [],
   "source": []
  },
  {
   "cell_type": "code",
   "execution_count": null,
   "metadata": {
    "collapsed": false
   },
   "outputs": [],
   "source": []
  },
  {
   "cell_type": "code",
   "execution_count": 199,
   "metadata": {
    "collapsed": true
   },
   "outputs": [],
   "source": [
    "#train_y = []\n",
    "#test_y = []\n",
    "train_x = np.concatenate( [imgs_train[i] for i in range(imgs_train.shape[0])] )\n",
    "train_y = np.array([imgs_mask_train[i] for i in range(imgs_mask_train.shape[0])])\n",
    "test_x = np.concatenate( [imgs_test[i] for i in range(imgs_test.shape[0])] )\n",
    "test_y = np.array([imgs_mask_test_true[i] for i in range(imgs_mask_test_true.shape[0])])"
   ]
  },
  {
   "cell_type": "code",
   "execution_count": 200,
   "metadata": {
    "collapsed": false
   },
   "outputs": [
    {
     "data": {
      "text/plain": [
       "(949, 7, 41, 41)"
      ]
     },
     "execution_count": 200,
     "metadata": {},
     "output_type": "execute_result"
    }
   ],
   "source": [
    "train_x.shape\n"
   ]
  },
  {
   "cell_type": "code",
   "execution_count": 201,
   "metadata": {
    "collapsed": false
   },
   "outputs": [
    {
     "data": {
      "text/plain": [
       "(1, 7, 41, 41)"
      ]
     },
     "execution_count": 201,
     "metadata": {},
     "output_type": "execute_result"
    }
   ],
   "source": [
    "train_y[0].shape\n"
   ]
  },
  {
   "cell_type": "code",
   "execution_count": 202,
   "metadata": {
    "collapsed": false
   },
   "outputs": [
    {
     "data": {
      "text/plain": [
       "(237, 7, 41, 41)"
      ]
     },
     "execution_count": 202,
     "metadata": {},
     "output_type": "execute_result"
    }
   ],
   "source": [
    "test_x.shape\n"
   ]
  },
  {
   "cell_type": "code",
   "execution_count": 203,
   "metadata": {
    "collapsed": false
   },
   "outputs": [
    {
     "data": {
      "text/plain": [
       "(237, 1, 7, 41, 41)"
      ]
     },
     "execution_count": 203,
     "metadata": {},
     "output_type": "execute_result"
    }
   ],
   "source": [
    "test_y.shape"
   ]
  },
  {
   "cell_type": "code",
   "execution_count": 204,
   "metadata": {
    "collapsed": false
   },
   "outputs": [],
   "source": [
    "train_x = train_x.reshape(train_x.shape[0],1,train_x.shape[1],train_x.shape[2],train_x.shape[3])\n",
    "\n",
    "test_x = test_x.reshape(test_x.shape[0],1,test_x.shape[1],test_x.shape[2],test_x.shape[3])"
   ]
  },
  {
   "cell_type": "code",
   "execution_count": 205,
   "metadata": {
    "collapsed": false
   },
   "outputs": [],
   "source": [
    "train_y = train_y.reshape(train_y.shape[0], -1)\n",
    "test_y = test_y.reshape(test_y.shape[0], -1)"
   ]
  },
  {
   "cell_type": "code",
   "execution_count": 206,
   "metadata": {
    "collapsed": false
   },
   "outputs": [
    {
     "data": {
      "text/plain": [
       "(949, 1, 7, 41, 41)"
      ]
     },
     "execution_count": 206,
     "metadata": {},
     "output_type": "execute_result"
    }
   ],
   "source": [
    "train_x.shape"
   ]
  },
  {
   "cell_type": "code",
   "execution_count": 207,
   "metadata": {
    "collapsed": false
   },
   "outputs": [
    {
     "data": {
      "text/plain": [
       "(949, 11767)"
      ]
     },
     "execution_count": 207,
     "metadata": {},
     "output_type": "execute_result"
    }
   ],
   "source": [
    "train_y.shape"
   ]
  },
  {
   "cell_type": "code",
   "execution_count": 196,
   "metadata": {
    "collapsed": false
   },
   "outputs": [],
   "source": [
    "nn = NeuralNet(\n",
    "            layers=[('input', layers.InputLayer),\n",
    "                   ('conv1', layers.dnn.Conv3DDNNLayer),\n",
    "                    ('pool1', layers.dnn.MaxPool3DDNNLayer),\n",
    "                   ('conv2', layers.dnn.Conv3DDNNLayer),\n",
    "                    ('pool2', layers.dnn.MaxPool3DDNNLayer),\n",
    "                   ('lstm1', layers.LSTMLayer),\n",
    "                    ('hidden1', layers.DenseLayer),\n",
    "                   ('dropout1', layers.DropoutLayer),\n",
    "                    ('hidden2', layers.DenseLayer),\n",
    "                    ('output', layers.DenseLayer),\n",
    "            ],\n",
    "         \n",
    "            # Input Layer\n",
    "            input_shape=(None,1, 7, 41, 41),\n",
    "            #input_shape=(None,1, 7 * 41 * 41),\n",
    "        \n",
    "            #Convolutional1 Layer\n",
    "         \n",
    "            conv1_num_filters = 40,\n",
    "            conv1_nonlinearity = rectify,\n",
    "            conv1_filter_size=(3, 3, 3),\n",
    "            conv1_stride = (1,1,1),\n",
    "            conv1_pad = \"full\",\n",
    "        \n",
    "            # Pooling1 Layer\n",
    "            pool1_pool_size = 5,\n",
    "        \n",
    "            #Convolutional Layer 2\n",
    "            conv2_num_filters = 20,\n",
    "            conv2_nonlinearity = rectify,\n",
    "            conv2_filter_size=(3, 3,3),\n",
    "            conv2_pad = \"full\",\n",
    "        \n",
    "            #Pooling2 Layer\n",
    "            pool2_pool_size = 2,\n",
    "        \n",
    "             #LSTM Layer\n",
    "            lstm1_num_units = 10,\n",
    "        \n",
    "            #1st Hidden Layer\n",
    "            hidden1_num_units=60,\n",
    "            hidden1_nonlinearity=rectify,\n",
    "        \n",
    "            #Dropout Layer\n",
    "            dropout1_p = 0.5,\n",
    "        \n",
    "            # 2nd Hidden Layer\n",
    "            hidden2_num_units=10,\n",
    "            hidden2_nonlinearity=rectify,\n",
    "        \n",
    "            # Output Layer\n",
    "            output_num_units=2,\n",
    "            output_nonlinearity=softmax,\n",
    "        \n",
    "            # Optimization\n",
    "            update=nesterov_momentum,\n",
    "            update_learning_rate=0.05,\n",
    "            update_momentum=0.5,\n",
    "            max_epochs=25,\n",
    "        \n",
    "            #update = adagrad,\n",
    "            #update_learning_rate = .07,\n",
    "            #max_epochs = 50,\n",
    "        \n",
    "            # Others\n",
    "            regression=False,\n",
    "            verbose=1,\n",
    "     )\n",
    "\n"
   ]
  },
  {
   "cell_type": "code",
   "execution_count": 198,
   "metadata": {
    "collapsed": false
   },
   "outputs": [
    {
     "ename": "ValueError",
     "evalue": "X and y are not of equal length.",
     "output_type": "error",
     "traceback": [
      "\u001b[0;31m---------------------------------------------------------------------------\u001b[0m",
      "\u001b[0;31mValueError\u001b[0m                                Traceback (most recent call last)",
      "\u001b[0;32m<ipython-input-198-7a66490d0036>\u001b[0m in \u001b[0;36m<module>\u001b[0;34m()\u001b[0m\n\u001b[0;32m----> 1\u001b[0;31m \u001b[0mnn\u001b[0m\u001b[0;34m.\u001b[0m\u001b[0mfit\u001b[0m\u001b[0;34m(\u001b[0m\u001b[0mtrain_x\u001b[0m\u001b[0;34m,\u001b[0m \u001b[0mtrain_y\u001b[0m\u001b[0;34m)\u001b[0m\u001b[0;34m\u001b[0m\u001b[0m\n\u001b[0m\u001b[1;32m      2\u001b[0m \u001b[0mpredict_y\u001b[0m \u001b[0;34m=\u001b[0m \u001b[0mnn\u001b[0m\u001b[0;34m.\u001b[0m\u001b[0mpredict\u001b[0m\u001b[0;34m(\u001b[0m\u001b[0mtest_x\u001b[0m\u001b[0;34m)\u001b[0m\u001b[0;34m\u001b[0m\u001b[0m\n\u001b[1;32m      3\u001b[0m \u001b[0;34m\u001b[0m\u001b[0m\n\u001b[1;32m      4\u001b[0m \u001b[0;32mprint\u001b[0m \u001b[0;34m\"Accuracy Score: \"\u001b[0m \u001b[0;34m+\u001b[0m\u001b[0mstr\u001b[0m\u001b[0;34m(\u001b[0m\u001b[0maccuracy_score\u001b[0m\u001b[0;34m(\u001b[0m\u001b[0mtest_y\u001b[0m\u001b[0;34m,\u001b[0m \u001b[0mpredict_y\u001b[0m\u001b[0;34m)\u001b[0m\u001b[0;34m)\u001b[0m\u001b[0;34m\u001b[0m\u001b[0m\n\u001b[1;32m      5\u001b[0m \u001b[0;32mprint\u001b[0m \u001b[0;34m\"Precision Score: \"\u001b[0m \u001b[0;34m+\u001b[0m \u001b[0mstr\u001b[0m\u001b[0;34m(\u001b[0m\u001b[0mprecision_score\u001b[0m\u001b[0;34m(\u001b[0m\u001b[0mtest_y\u001b[0m\u001b[0;34m,\u001b[0m \u001b[0mpredict_y\u001b[0m\u001b[0;34m)\u001b[0m\u001b[0;34m)\u001b[0m\u001b[0;34m\u001b[0m\u001b[0m\n",
      "\u001b[0;32m/home/watts/anaconda2/lib/python2.7/site-packages/nolearn/lasagne/base.pyc\u001b[0m in \u001b[0;36mfit\u001b[0;34m(self, X, y, epochs)\u001b[0m\n\u001b[1;32m    678\u001b[0m         \"\"\"\n\u001b[1;32m    679\u001b[0m         \u001b[0;32mif\u001b[0m \u001b[0mself\u001b[0m\u001b[0;34m.\u001b[0m\u001b[0mcheck_input\u001b[0m\u001b[0;34m:\u001b[0m\u001b[0;34m\u001b[0m\u001b[0m\n\u001b[0;32m--> 680\u001b[0;31m             \u001b[0mX\u001b[0m\u001b[0;34m,\u001b[0m \u001b[0my\u001b[0m \u001b[0;34m=\u001b[0m \u001b[0mself\u001b[0m\u001b[0;34m.\u001b[0m\u001b[0m_check_good_input\u001b[0m\u001b[0;34m(\u001b[0m\u001b[0mX\u001b[0m\u001b[0;34m,\u001b[0m \u001b[0my\u001b[0m\u001b[0;34m)\u001b[0m\u001b[0;34m\u001b[0m\u001b[0m\n\u001b[0m\u001b[1;32m    681\u001b[0m \u001b[0;34m\u001b[0m\u001b[0m\n\u001b[1;32m    682\u001b[0m         \u001b[0;32mif\u001b[0m \u001b[0mself\u001b[0m\u001b[0;34m.\u001b[0m\u001b[0muse_label_encoder\u001b[0m\u001b[0;34m:\u001b[0m\u001b[0;34m\u001b[0m\u001b[0m\n",
      "\u001b[0;32m/home/watts/anaconda2/lib/python2.7/site-packages/nolearn/lasagne/base.pyc\u001b[0m in \u001b[0;36m_check_good_input\u001b[0;34m(self, X, y)\u001b[0m\n\u001b[1;32m    460\u001b[0m         \u001b[0;32mif\u001b[0m \u001b[0my\u001b[0m \u001b[0;32mis\u001b[0m \u001b[0;32mnot\u001b[0m \u001b[0mNone\u001b[0m\u001b[0;34m:\u001b[0m\u001b[0;34m\u001b[0m\u001b[0m\n\u001b[1;32m    461\u001b[0m             \u001b[0;32mif\u001b[0m \u001b[0mlen\u001b[0m\u001b[0;34m(\u001b[0m\u001b[0my\u001b[0m\u001b[0;34m)\u001b[0m \u001b[0;34m!=\u001b[0m \u001b[0mx_len\u001b[0m\u001b[0;34m:\u001b[0m\u001b[0;34m\u001b[0m\u001b[0m\n\u001b[0;32m--> 462\u001b[0;31m                 \u001b[0;32mraise\u001b[0m \u001b[0mValueError\u001b[0m\u001b[0;34m(\u001b[0m\u001b[0;34m\"X and y are not of equal length.\"\u001b[0m\u001b[0;34m)\u001b[0m\u001b[0;34m\u001b[0m\u001b[0m\n\u001b[0m\u001b[1;32m    463\u001b[0m \u001b[0;34m\u001b[0m\u001b[0m\n\u001b[1;32m    464\u001b[0m         \u001b[0;32mif\u001b[0m \u001b[0mself\u001b[0m\u001b[0;34m.\u001b[0m\u001b[0mregression\u001b[0m \u001b[0;32mand\u001b[0m \u001b[0my\u001b[0m \u001b[0;32mis\u001b[0m \u001b[0;32mnot\u001b[0m \u001b[0mNone\u001b[0m \u001b[0;32mand\u001b[0m \u001b[0my\u001b[0m\u001b[0;34m.\u001b[0m\u001b[0mndim\u001b[0m \u001b[0;34m==\u001b[0m \u001b[0;36m1\u001b[0m\u001b[0;34m:\u001b[0m\u001b[0;34m\u001b[0m\u001b[0m\n",
      "\u001b[0;31mValueError\u001b[0m: X and y are not of equal length."
     ]
    }
   ],
   "source": [
    "nn.fit(train_x, train_y)\n",
    "predict_y = nn.predict(test_x)\n",
    "\n",
    "print \"Accuracy Score: \" +str(accuracy_score(test_y, predict_y))\n",
    "print \"Precision Score: \" + str(precision_score(test_y, predict_y))\n",
    "print \"Recall Score: \" + str(recall_score(test_y, predict_y))\n",
    "print \"F1 Score: \" + str(f1_score(test_y, predict_y))"
   ]
  },
  {
   "cell_type": "code",
   "execution_count": null,
   "metadata": {
    "collapsed": true
   },
   "outputs": [],
   "source": []
  }
 ],
 "metadata": {
  "kernelspec": {
   "display_name": "Python 2",
   "language": "python",
   "name": "python2"
  },
  "language_info": {
   "codemirror_mode": {
    "name": "ipython",
    "version": 2
   },
   "file_extension": ".py",
   "mimetype": "text/x-python",
   "name": "python",
   "nbconvert_exporter": "python",
   "pygments_lexer": "ipython2",
   "version": "2.7.13"
  }
 },
 "nbformat": 4,
 "nbformat_minor": 2
}
