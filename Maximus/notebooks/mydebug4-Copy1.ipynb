{
 "cells": [
  {
   "cell_type": "code",
   "execution_count": null,
   "metadata": {
    "collapsed": true
   },
   "outputs": [],
   "source": [
    "cd /home/watts/lal/Kaggle/lung_cancer"
   ]
  },
  {
   "cell_type": "code",
   "execution_count": null,
   "metadata": {
    "collapsed": true
   },
   "outputs": [],
   "source": [
    "from __future__ import print_function, division\n",
    "import SimpleITK as sitk\n",
    "import numpy as np\n",
    "import csv\n",
    "from glob import glob\n",
    "import pandas as pd\n",
    "try:\n",
    "    from tqdm import tqdm # long waits are not fun\n",
    "except:\n",
    "    print('TQDM does make much nicer wait bars...')\n",
    "    tqdm = lambda x: x"
   ]
  },
  {
   "cell_type": "code",
   "execution_count": null,
   "metadata": {
    "collapsed": true
   },
   "outputs": [],
   "source": [
    "luna_path = \"/home/watts/lal/Kaggle/lung_cancer/data_luna16\"\n",
    "luna_subset_path = luna_path+\"subset0/\"\n",
    "output_path = \"/home/watts/lal/Kaggle/lung_cancer/cache/luna16\"\n",
    "file_list=glob(luna_subset_path+\"*.mhd\")"
   ]
  },
  {
   "cell_type": "code",
   "execution_count": null,
   "metadata": {
    "collapsed": true
   },
   "outputs": [],
   "source": [
    "def make_mask(center,diam,z,width,height,spacing,origin):\n",
    "    '''\n",
    "Center : centers of circles px -- list of coordinates x,y,z\n",
    "diam : diameters of circles px -- diameter\n",
    "widthXheight : pixel dim of image\n",
    "spacing = mm/px conversion rate np array x,y,z\n",
    "origin = x,y,z mm np.array\n",
    "z = z position of slice in world coordinates mm\n",
    "    '''\n",
    "    mask = np.zeros([height,width]) # 0's everywhere except nodule swapping x,y to match img\n",
    "    #convert to nodule space from world coordinates\n",
    "\n",
    "    # Defining the voxel range in which the nodule falls\n",
    "    v_center = (center-origin)/spacing\n",
    "    v_diam = int(diam/spacing[0]+5)\n",
    "    v_xmin = np.max([0,int(v_center[0]-v_diam)-5])\n",
    "    v_xmax = np.min([width-1,int(v_center[0]+v_diam)+5])\n",
    "    v_ymin = np.max([0,int(v_center[1]-v_diam)-5]) \n",
    "    v_ymax = np.min([height-1,int(v_center[1]+v_diam)+5])\n",
    "\n",
    "    v_xrange = range(v_xmin,v_xmax+1)\n",
    "    v_yrange = range(v_ymin,v_ymax+1)\n",
    "\n",
    "    # Convert back to world coordinates for distance calculation\n",
    "    x_data = [x*spacing[0]+origin[0] for x in range(width)]\n",
    "    y_data = [x*spacing[1]+origin[1] for x in range(height)]\n",
    "\n",
    "    # Fill in 1 within sphere around nodule\n",
    "    for v_x in v_xrange:\n",
    "        for v_y in v_yrange:\n",
    "            p_x = spacing[0]*v_x + origin[0]\n",
    "            p_y = spacing[1]*v_y + origin[1]\n",
    "            if np.linalg.norm(center-np.array([p_x,p_y,z]))<=diam:\n",
    "                mask[int((p_y-origin[1])/spacing[1]),int((p_x-origin[0])/spacing[0])] = 1.0\n",
    "    return(mask)\n",
    "\n",
    "def matrix2int16(matrix):\n",
    "    ''' \n",
    "matrix must be a numpy array NXN\n",
    "Returns uint16 version\n",
    "    '''\n",
    "    m_min= np.min(matrix)\n",
    "    m_max= np.max(matrix)\n",
    "    matrix = matrix-m_min\n",
    "    return(np.array(np.rint( (matrix-m_min)/float(m_max-m_min) * 65535.0),dtype=np.uint16))\n",
    "\n",
    "#####################\n",
    "#\n",
    "# Helper function to get rows in data frame associated \n",
    "# with each file\n",
    "def get_filename(file_list, case):\n",
    "    for f in file_list:\n",
    "        if case in f:\n",
    "            return(f)"
   ]
  },
  {
   "cell_type": "code",
   "execution_count": null,
   "metadata": {
    "collapsed": true
   },
   "outputs": [],
   "source": [
    "#\n",
    "# The locations of the nodes\n",
    "df_node = pd.read_csv(luna_path+\"annotations.csv\")\n",
    "df_node[\"file\"] = df_node[\"seriesuid\"].map(lambda file_name: get_filename(file_list, file_name))\n",
    "df_node = df_node.dropna()"
   ]
  },
  {
   "cell_type": "code",
   "execution_count": null,
   "metadata": {
    "collapsed": true
   },
   "outputs": [],
   "source": [
    "for fcount, img_file in enumerate(tqdm(file_list)):\n",
    "    mini_df = df_node[df_node[\"file\"]==img_file] #get all nodules associate with file\n",
    "    if mini_df.shape[0]>0: # some files may not have a nodule--skipping those \n",
    "        # load the data once\n",
    "        itk_img = sitk.ReadImage(img_file) \n",
    "        img_array = sitk.GetArrayFromImage(itk_img) # indexes are z,y,x (notice the ordering)\n",
    "        num_z, height, width = img_array.shape        #heightXwidth constitute the transverse plane\n",
    "        origin = np.array(itk_img.GetOrigin())      # x,y,z  Origin in world coordinates (mm)\n",
    "        spacing = np.array(itk_img.GetSpacing())    # spacing of voxels in world coor. (mm)\n",
    "        # go through all nodes (why just the biggest?)\n",
    "        for node_idx, cur_row in mini_df.iterrows():       \n",
    "            node_x = cur_row[\"coordX\"]\n",
    "            node_y = cur_row[\"coordY\"]\n",
    "            node_z = cur_row[\"coordZ\"]\n",
    "            diam = cur_row[\"diameter_mm\"]\n",
    "            # just keep 3 slices\n",
    "            imgs = np.ndarray([3,height,width],dtype=np.float32)\n",
    "            masks = np.ndarray([3,height,width],dtype=np.uint8)\n",
    "            center = np.array([node_x, node_y, node_z])   # nodule center\n",
    "            v_center = np.rint((center-origin)/spacing)  # nodule center in voxel space (still x,y,z ordering)\n",
    "            for i, i_z in enumerate(np.arange(int(v_center[2])-1,\n",
    "                             int(v_center[2])+2).clip(0, num_z-1)): # clip prevents going out of bounds in Z\n",
    "                mask = make_mask(center, diam, i_z*spacing[2]+origin[2],\n",
    "                                 width, height, spacing, origin)\n",
    "                masks[i] = mask\n",
    "                imgs[i] = img_array[i_z]\n",
    "            np.save(os.path.join(output_path,\"images_%04d_%04d.npy\" % (fcount, node_idx)),imgs)\n",
    "            np.save(os.path.join(output_path,\"masks_%04d_%04d.npy\" % (fcount, node_idx)),masks)"
   ]
  }
 ],
 "metadata": {
  "kernelspec": {
   "display_name": "Python 2",
   "language": "python",
   "name": "python2"
  },
  "language_info": {
   "codemirror_mode": {
    "name": "ipython",
    "version": 2
   },
   "file_extension": ".py",
   "mimetype": "text/x-python",
   "name": "python",
   "nbconvert_exporter": "python",
   "pygments_lexer": "ipython2",
   "version": "2.7.13"
  }
 },
 "nbformat": 4,
 "nbformat_minor": 2
}
