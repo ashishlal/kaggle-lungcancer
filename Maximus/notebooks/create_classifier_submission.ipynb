{
 "cells": [
  {
   "cell_type": "code",
   "execution_count": 88,
   "metadata": {
    "collapsed": false
   },
   "outputs": [],
   "source": [
    "import pandas as pd\n",
    "import numpy as np\n",
    "from sklearn import cross_validation, metrics\n",
    "from sklearn.cross_validation import StratifiedKFold as KFold\n",
    "from sklearn.metrics import classification_report\n",
    "from sklearn.ensemble import RandomForestClassifier as RF\n",
    "import xgboost as xgb\n",
    "from xgboost.sklearn import XGBClassifier\n",
    "from sklearn.grid_search import GridSearchCV   #Perforing grid search\n",
    "import matplotlib.pylab as plt\n",
    "%matplotlib inline\n",
    "from tqdm import tqdm\n",
    "import datetime"
   ]
  },
  {
   "cell_type": "code",
   "execution_count": 89,
   "metadata": {
    "collapsed": true
   },
   "outputs": [],
   "source": [
    "working_path = \"/home/watts/lal/Kaggle/lung_cancer/\""
   ]
  },
  {
   "cell_type": "code",
   "execution_count": 90,
   "metadata": {
    "collapsed": false
   },
   "outputs": [],
   "source": [
    "train = pd.read_csv(working_path+'cache/my_train.csv', sep=',')\n",
    "test = pd.read_csv(working_path+'cache/my_test.csv', sep=',')\n",
    "target = 'output'\n",
    "idcol = 'id'\n",
    "scan_folder = 'scan_folder'"
   ]
  },
  {
   "cell_type": "code",
   "execution_count": 91,
   "metadata": {
    "collapsed": true
   },
   "outputs": [],
   "source": [
    "def modelfit(alg, dtrain, predictors,useTrainCV=True, cv_folds=5, early_stopping_rounds=50):\n",
    "    \n",
    "    if useTrainCV:\n",
    "        xgb_param = alg.get_xgb_params()\n",
    "        xgtrain = xgb.DMatrix(dtrain[predictors].values, label=dtrain[target].values)\n",
    "        cvresult = xgb.cv(xgb_param, xgtrain, num_boost_round=alg.get_params()['n_estimators'], nfold=cv_folds,\n",
    "            metrics='auc', \n",
    "                          early_stopping_rounds=early_stopping_rounds\n",
    "#                           ,show_progress=False\n",
    "                         )\n",
    "        alg.set_params(n_estimators=cvresult.shape[0])\n",
    "    \n",
    "    #Fit the algorithm on the data\n",
    "    alg.fit(dtrain[predictors], dtrain['output'],eval_metric='auc')\n",
    "        \n",
    "    #Predict training set:\n",
    "    dtrain_predictions = alg.predict(dtrain[predictors])\n",
    "    dtrain_predprob = alg.predict_proba(dtrain[predictors])[:,1]\n",
    "        \n",
    "    #Print model report:\n",
    "    print \"\\nModel Report\"\n",
    "    print \"Accuracy : %.4g\" % metrics.accuracy_score(dtrain['output'].values, dtrain_predictions)\n",
    "    print \"AUC Score (Train): %f\" % metrics.roc_auc_score(dtrain['output'], dtrain_predprob)\n",
    "    print \"LogLoss Score (Train): %f\" % metrics.log_loss(dtrain['output'], dtrain_predprob)\n",
    "                    \n",
    "    feat_imp = pd.Series(alg.booster().get_fscore()).sort_values(ascending=False)\n",
    "    feat_imp.plot(kind='bar', title='Feature Importances')\n",
    "    plt.ylabel('Feature Importance Score')\n",
    "    \n",
    "def modelfit2(alg, dtrain, predictors,useTrainCV=True, cv_folds=5, early_stopping_rounds=50):\n",
    "    \n",
    "    if useTrainCV:\n",
    "        xgb_param = alg.get_xgb_params()\n",
    "        xgtrain = xgb.DMatrix(dtrain[predictors].values, label=dtrain[target].values)\n",
    "        cvresult = xgb.cv(xgb_param, xgtrain, num_boost_round=alg.get_params()['n_estimators'], nfold=cv_folds,\n",
    "            metrics='auc', \n",
    "                          early_stopping_rounds=early_stopping_rounds\n",
    "#                           ,show_progress=False\n",
    "                         )\n",
    "        alg.set_params(n_estimators=cvresult.shape[0])\n",
    "    \n",
    "    #Fit the algorithm on the data\n",
    "    alg.fit(dtrain[predictors], dtrain['output'],eval_metric='auc')\n",
    "        \n",
    "    #Predict training set:\n",
    "    dtrain_predictions = alg.predict(dtrain[predictors])\n",
    "    dtrain_predprob = alg.predict_proba(dtrain[predictors])[:,1]\n",
    "        \n",
    "    #Print model report:\n",
    "    print \"\\nModel Report\"\n",
    "    print \"Accuracy : %.4g\" % metrics.accuracy_score(dtrain['output'].values, dtrain_predictions)\n",
    "    print \"AUC Score (Train): %f\" % metrics.roc_auc_score(dtrain['output'], dtrain_predprob)\n",
    "    print \"LogLoss Score (Train): %f\" % metrics.log_loss(dtrain['output'], dtrain_predprob)\n",
    "    \n",
    "    feat_imp = pd.Series(alg.booster().get_fscore()).sort_values(ascending=False)\n",
    "    feat_imp.plot(kind='bar', title='Feature Importances')\n",
    "    plt.ylabel('Feature Importance Score')"
   ]
  },
  {
   "cell_type": "code",
   "execution_count": 105,
   "metadata": {
    "collapsed": false
   },
   "outputs": [
    {
     "name": "stdout",
     "output_type": "stream",
     "text": [
      "\n",
      "Model Report\n",
      "Accuracy : 0.7502\n",
      "AUC Score (Train): 0.615835\n",
      "LogLoss Score (Train): 0.547885\n"
     ]
    },
    {
     "data": {
      "image/png": "[encoded data removed]",
      "text/plain": [
       "<matplotlib.figure.Figure at 0x7f99afbfc850>"
      ]
     },
     "metadata": {},
     "output_type": "display_data"
    }
   ],
   "source": [
    "predictors = [x for x in train.columns if x not in [target, idcol, scan_folder]]\n",
    "xgb1 = XGBClassifier(\n",
    "    learning_rate =0.1,\n",
    "    n_estimators=1000,\n",
    "    max_depth=10,\n",
    "    min_child_weight=1.0,\n",
    "    gamma=0,\n",
    "    subsample=0.8,\n",
    "    colsample_bytree=0.8,\n",
    "    objective= 'binary:logistic',\n",
    "    nthread=4,\n",
    "    scale_pos_weight=1,\n",
    "    seed=27)\n",
    "modelfit(xgb1, train, predictors)"
   ]
  },
  {
   "cell_type": "code",
   "execution_count": 79,
   "metadata": {
    "collapsed": false
   },
   "outputs": [],
   "source": [
    "df = test\n",
    "df = df.drop('id', 1)\n",
    "df = df.drop('scan_folder', 1)"
   ]
  },
  {
   "cell_type": "code",
   "execution_count": 80,
   "metadata": {
    "collapsed": true
   },
   "outputs": [],
   "source": [
    "xgtest = xgb.DMatrix(df[predictors].values)"
   ]
  },
  {
   "cell_type": "code",
   "execution_count": 81,
   "metadata": {
    "collapsed": false
   },
   "outputs": [],
   "source": [
    "preds = xgb1.predict_proba(df)"
   ]
  },
  {
   "cell_type": "code",
   "execution_count": 82,
   "metadata": {
    "collapsed": false
   },
   "outputs": [
    {
     "data": {
      "text/plain": [
       "array([[ 0.74747342,  0.25252658],\n",
       "       [ 0.7231012 ,  0.2768988 ],\n",
       "       [ 0.78434497,  0.21565503],\n",
       "       [ 0.60824788,  0.39175209],\n",
       "       [ 0.71428573,  0.28571424],\n",
       "       [ 0.75767958,  0.24232043],\n",
       "       [ 0.64138103,  0.358619  ],\n",
       "       [ 0.74747342,  0.25252658],\n",
       "       [ 0.77753353,  0.22246644],\n",
       "       [ 0.76950496,  0.23049502],\n",
       "       [ 0.78868973,  0.21131024],\n",
       "       [ 0.75621605,  0.24378397],\n",
       "       [ 0.7231012 ,  0.2768988 ],\n",
       "       [ 0.75767958,  0.24232043],\n",
       "       [ 0.74893999,  0.25106004],\n",
       "       [ 0.77753353,  0.22246644],\n",
       "       [ 0.77753353,  0.22246644],\n",
       "       [ 0.71428573,  0.28571424],\n",
       "       [ 0.71643972,  0.28356031],\n",
       "       [ 0.77236623,  0.22763377],\n",
       "       [ 0.76950496,  0.23049502],\n",
       "       [ 0.71428573,  0.28571424],\n",
       "       [ 0.78434497,  0.21565503],\n",
       "       [ 0.77236623,  0.22763377],\n",
       "       [ 0.71577579,  0.28422421],\n",
       "       [ 0.64138103,  0.358619  ],\n",
       "       [ 0.72210449,  0.27789551],\n",
       "       [ 0.71428573,  0.28571424],\n",
       "       [ 0.80756354,  0.19243644],\n",
       "       [ 0.77236623,  0.22763377],\n",
       "       [ 0.74747342,  0.25252658],\n",
       "       [ 0.7231012 ,  0.2768988 ],\n",
       "       [ 0.75767958,  0.24232043],\n",
       "       [ 0.71428573,  0.28571424],\n",
       "       [ 0.71428573,  0.28571424],\n",
       "       [ 0.66370559,  0.33629444],\n",
       "       [ 0.7231012 ,  0.2768988 ],\n",
       "       [ 0.71428573,  0.28571424],\n",
       "       [ 0.77236623,  0.22763377],\n",
       "       [ 0.78434497,  0.21565503],\n",
       "       [ 0.7231012 ,  0.2768988 ],\n",
       "       [ 0.74747342,  0.25252658],\n",
       "       [ 0.78434497,  0.21565503],\n",
       "       [ 0.7231012 ,  0.2768988 ],\n",
       "       [ 0.77236623,  0.22763377],\n",
       "       [ 0.7231012 ,  0.2768988 ],\n",
       "       [ 0.75767958,  0.24232043],\n",
       "       [ 0.74747342,  0.25252658],\n",
       "       [ 0.75767958,  0.24232043],\n",
       "       [ 0.75767958,  0.24232043],\n",
       "       [ 0.79412973,  0.2058703 ],\n",
       "       [ 0.71428573,  0.28571424],\n",
       "       [ 0.70519829,  0.29480171],\n",
       "       [ 0.75767958,  0.24232043],\n",
       "       [ 0.75767958,  0.24232043],\n",
       "       [ 0.76950496,  0.23049502],\n",
       "       [ 0.63622063,  0.36377937],\n",
       "       [ 0.75767958,  0.24232043],\n",
       "       [ 0.7231012 ,  0.2768988 ],\n",
       "       [ 0.75767958,  0.24232043],\n",
       "       [ 0.71577579,  0.28422421],\n",
       "       [ 0.74893999,  0.25106004],\n",
       "       [ 0.75767958,  0.24232043],\n",
       "       [ 0.77753353,  0.22246644],\n",
       "       [ 0.74862975,  0.25137025],\n",
       "       [ 0.74893999,  0.25106004],\n",
       "       [ 0.75767958,  0.24232043],\n",
       "       [ 0.84092796,  0.15907206],\n",
       "       [ 0.77236623,  0.22763377],\n",
       "       [ 0.78434497,  0.21565503],\n",
       "       [ 0.75326139,  0.24673863],\n",
       "       [ 0.74747342,  0.25252658],\n",
       "       [ 0.76950496,  0.23049502],\n",
       "       [ 0.71643972,  0.28356031],\n",
       "       [ 0.83136445,  0.16863556],\n",
       "       [ 0.71428573,  0.28571424],\n",
       "       [ 0.66370559,  0.33629444],\n",
       "       [ 0.77236623,  0.22763377],\n",
       "       [ 0.65724671,  0.34275326],\n",
       "       [ 0.77236623,  0.22763377],\n",
       "       [ 0.7231012 ,  0.2768988 ],\n",
       "       [ 0.7231012 ,  0.2768988 ],\n",
       "       [ 0.81663525,  0.18336476],\n",
       "       [ 0.7231012 ,  0.2768988 ],\n",
       "       [ 0.74747342,  0.25252658],\n",
       "       [ 0.75326139,  0.24673863],\n",
       "       [ 0.77236623,  0.22763377],\n",
       "       [ 0.77753353,  0.22246644],\n",
       "       [ 0.75767958,  0.24232043],\n",
       "       [ 0.75767958,  0.24232043],\n",
       "       [ 0.72210449,  0.27789551],\n",
       "       [ 0.74747342,  0.25252658],\n",
       "       [ 0.71428573,  0.28571424],\n",
       "       [ 0.71643972,  0.28356031],\n",
       "       [ 0.78434497,  0.21565503],\n",
       "       [ 0.86646652,  0.13353346],\n",
       "       [ 0.7231012 ,  0.2768988 ],\n",
       "       [ 0.77753353,  0.22246644],\n",
       "       [ 0.77753353,  0.22246644],\n",
       "       [ 0.77753353,  0.22246644],\n",
       "       [ 0.7231012 ,  0.2768988 ],\n",
       "       [ 0.71643972,  0.28356031],\n",
       "       [ 0.64138103,  0.358619  ],\n",
       "       [ 0.75767958,  0.24232043],\n",
       "       [ 0.64138103,  0.358619  ],\n",
       "       [ 0.71577579,  0.28422421],\n",
       "       [ 0.78434497,  0.21565503],\n",
       "       [ 0.75767958,  0.24232043],\n",
       "       [ 0.84092796,  0.15907206],\n",
       "       [ 0.75767958,  0.24232043],\n",
       "       [ 0.84092796,  0.15907206],\n",
       "       [ 0.77753353,  0.22246644],\n",
       "       [ 0.7231012 ,  0.2768988 ],\n",
       "       [ 0.76950496,  0.23049502],\n",
       "       [ 0.66370559,  0.33629444],\n",
       "       [ 0.68120617,  0.31879383],\n",
       "       [ 0.75767958,  0.24232043],\n",
       "       [ 0.75326139,  0.24673863],\n",
       "       [ 0.7231012 ,  0.2768988 ],\n",
       "       [ 0.75767958,  0.24232043],\n",
       "       [ 0.74893999,  0.25106004],\n",
       "       [ 0.78434497,  0.21565503],\n",
       "       [ 0.8834039 ,  0.11659613],\n",
       "       [ 0.78434497,  0.21565503],\n",
       "       [ 0.74893999,  0.25106004],\n",
       "       [ 0.60824788,  0.39175209],\n",
       "       [ 0.8739019 ,  0.12609808],\n",
       "       [ 0.64138103,  0.358619  ],\n",
       "       [ 0.55381006,  0.44618994],\n",
       "       [ 0.7231012 ,  0.2768988 ],\n",
       "       [ 0.71428573,  0.28571424],\n",
       "       [ 0.74747342,  0.25252658],\n",
       "       [ 0.75767958,  0.24232043],\n",
       "       [ 0.78434497,  0.21565503],\n",
       "       [ 0.59501433,  0.4049857 ],\n",
       "       [ 0.71428573,  0.28571424],\n",
       "       [ 0.75767958,  0.24232043],\n",
       "       [ 0.7231012 ,  0.2768988 ],\n",
       "       [ 0.71428573,  0.28571424],\n",
       "       [ 0.75767958,  0.24232043],\n",
       "       [ 0.63622063,  0.36377937],\n",
       "       [ 0.56419969,  0.43580031],\n",
       "       [ 0.75767958,  0.24232043],\n",
       "       [ 0.7231012 ,  0.2768988 ],\n",
       "       [ 0.7231012 ,  0.2768988 ],\n",
       "       [ 0.75767958,  0.24232043],\n",
       "       [ 0.78434497,  0.21565503],\n",
       "       [ 0.77236623,  0.22763377],\n",
       "       [ 0.77753353,  0.22246644],\n",
       "       [ 0.78434497,  0.21565503],\n",
       "       [ 0.75767958,  0.24232043],\n",
       "       [ 0.48250705,  0.51749295],\n",
       "       [ 0.77236623,  0.22763377],\n",
       "       [ 0.75767958,  0.24232043],\n",
       "       [ 0.78434497,  0.21565503],\n",
       "       [ 0.75767958,  0.24232043],\n",
       "       [ 0.63622063,  0.36377937],\n",
       "       [ 0.66924053,  0.33075947],\n",
       "       [ 0.77236623,  0.22763377],\n",
       "       [ 0.79412973,  0.2058703 ],\n",
       "       [ 0.86167699,  0.13832301],\n",
       "       [ 0.78434497,  0.21565503],\n",
       "       [ 0.7231012 ,  0.2768988 ],\n",
       "       [ 0.71577579,  0.28422421],\n",
       "       [ 0.71428573,  0.28571424],\n",
       "       [ 0.35246134,  0.64753866],\n",
       "       [ 0.77236623,  0.22763377],\n",
       "       [ 0.71428573,  0.28571424],\n",
       "       [ 0.77753353,  0.22246644],\n",
       "       [ 0.77753353,  0.22246644],\n",
       "       [ 0.77684832,  0.2231517 ],\n",
       "       [ 0.81790739,  0.18209262],\n",
       "       [ 0.75767958,  0.24232043],\n",
       "       [ 0.60824788,  0.39175209],\n",
       "       [ 0.78434497,  0.21565503],\n",
       "       [ 0.71428573,  0.28571424],\n",
       "       [ 0.71289599,  0.28710398],\n",
       "       [ 0.73849595,  0.26150402],\n",
       "       [ 0.66370559,  0.33629444],\n",
       "       [ 0.65724671,  0.34275326],\n",
       "       [ 0.81860673,  0.18139325],\n",
       "       [ 0.71428573,  0.28571424],\n",
       "       [ 0.48250705,  0.51749295],\n",
       "       [ 0.71577579,  0.28422421],\n",
       "       [ 0.75767958,  0.24232043],\n",
       "       [ 0.75767958,  0.24232043],\n",
       "       [ 0.74747342,  0.25252658],\n",
       "       [ 0.77236623,  0.22763377],\n",
       "       [ 0.81860673,  0.18139325],\n",
       "       [ 0.75767958,  0.24232043],\n",
       "       [ 0.77236623,  0.22763377],\n",
       "       [ 0.64138103,  0.358619  ],\n",
       "       [ 0.75326139,  0.24673863],\n",
       "       [ 0.71428573,  0.28571424],\n",
       "       [ 0.77753353,  0.22246644],\n",
       "       [ 0.7231012 ,  0.2768988 ],\n",
       "       [ 0.64138103,  0.358619  ],\n",
       "       [ 0.50103348,  0.49896652]], dtype=float32)"
      ]
     },
     "execution_count": 82,
     "metadata": {},
     "output_type": "execute_result"
    }
   ],
   "source": [
    "preds"
   ]
  },
  {
   "cell_type": "code",
   "execution_count": 110,
   "metadata": {
    "collapsed": false
   },
   "outputs": [
    {
     "name": "stderr",
     "output_type": "stream",
     "text": [
      "100%|██████████| 198/198 [00:00<00:00, 4751.28it/s]"
     ]
    },
    {
     "name": "stdout",
     "output_type": "stream",
     "text": [
      "2017-03-31 18:23:39.170185\n",
      "Done\n",
      "/home/watts/lal/Kaggle/lung_cancer/cache/submissions/my_sub_2017-03-31 18:23:39.170185.csv\n"
     ]
    },
    {
     "name": "stderr",
     "output_type": "stream",
     "text": [
      "\n"
     ]
    }
   ],
   "source": [
    "data = []\n",
    "cols = ['id', 'cancer']\n",
    "df = test\n",
    "for i, row in tqdm(df.iterrows(), total=len(df)):\n",
    "    scan_folder = row['scan_folder']\n",
    "    cancer = preds[i][0]\n",
    "    t = {\n",
    "         'id': scan_folder,\n",
    "         'cancer': cancer\n",
    "        }\n",
    "    data.append(t)\n",
    "df_sub = pd.DataFrame(data)\n",
    "df_sub = df_sub[cols]\n",
    "now = datetime.datetime.now()\n",
    "print now\n",
    "sub_fname = working_path+'cache/submissions/my_sub_%s.csv' % now\n",
    "df_sub.to_csv(sub_fname, sep=',', index=False)\n",
    "print 'Done'\n",
    "print sub_fname"
   ]
  },
  {
   "cell_type": "code",
   "execution_count": null,
   "metadata": {
    "collapsed": true
   },
   "outputs": [],
   "source": [
    "#Random Forest\n",
    "kf = KFold(Y, n_folds=3)\n",
    "y_pred = Y * 0\n",
    "y_pred_prob = Y * 0\n",
    "for train, test in kf:\n",
    "    X_train, X_test, y_train, y_test = X[train,:], X[test,:], Y[train], Y[test]\n",
    "    clf = RF(n_estimators=100, n_jobs=3)\n",
    "    clf.fit(X_train, y_train)\n",
    "    y_pred[test] = clf.predict(X_test)\n",
    "    y_pred_prob[test] = clf.predict_proba(X_test)[:,1]\n",
    "print ('Random Forest')\n",
    "print classification_report(Y, y_pred, target_names=[\"No Cancer\", \"Cancer\"])\n",
    "print(\"logloss\",logloss(Y, y_pred_prob))\n"
   ]
  },
  {
   "cell_type": "code",
   "execution_count": null,
   "metadata": {
    "collapsed": true
   },
   "outputs": [],
   "source": [
    "#XGBoost\n",
    "print (\"XGBoost\")\n",
    "kf = KFold(Y, n_folds=3)\n",
    "y_pred = Y * 0\n",
    "y_pred_prob = Y * 0\n",
    "for train, test in kf:\n",
    "    X_train, X_test, y_train, y_test = X[train,:], X[test,:], Y[train], Y[test]\n",
    "    clf = xgb.XGBClassifier(objective=\"binary:logistic\", scale_pos_weight=3 )\n",
    "    clf.fit(X_train, y_train)\n",
    "    y_pred[test] = clf.predict(X_test)\n",
    "    y_pred_prob[test] = clf.predict_proba(X_test)[:,1]\n",
    "print classification_report(Y, y_pred, target_names=[\"No Cancer\", \"Cancer\"])\n",
    "print(\"logloss\",logloss(Y, y_pred_prob))\n"
   ]
  },
  {
   "cell_type": "code",
   "execution_count": null,
   "metadata": {
    "collapsed": true
   },
   "outputs": [],
   "source": [
    "# All Cancer\n",
    "print \"Predicting all positive\"\n",
    "y_pred = np.ones(Y.shape)\n",
    "print classification_report(Y, y_pred, target_names=[\"No Cancer\", \"Cancer\"])\n",
    "print(\"logloss\",logloss(Y, y_pred))\n",
    "# No Cancer\n",
    "print \"Predicting all negative\"\n",
    "y_pred = Y*0\n",
    "print classification_report(Y, y_pred, target_names=[\"No Cancer\", \"Cancer\"])\n",
    "print(\"logloss\",logloss(Y, y_pred))"
   ]
  }
 ],
 "metadata": {
  "kernelspec": {
   "display_name": "Python 2",
   "language": "python",
   "name": "python2"
  },
  "language_info": {
   "codemirror_mode": {
    "name": "ipython",
    "version": 2
   },
   "file_extension": ".py",
   "mimetype": "text/x-python",
   "name": "python",
   "nbconvert_exporter": "python",
   "pygments_lexer": "ipython2",
   "version": "2.7.13"
  }
 },
 "nbformat": 4,
 "nbformat_minor": 2
}
