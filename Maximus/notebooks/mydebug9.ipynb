{
 "cells": [
  {
   "cell_type": "code",
   "execution_count": 1,
   "metadata": {
    "collapsed": false
   },
   "outputs": [
    {
     "name": "stderr",
     "output_type": "stream",
     "text": [
      "Using Theano backend.\n",
      "WARNING (theano.sandbox.cuda): The cuda backend is deprecated and will be removed in the next release (v0.10).  Please switch to the gpuarray backend. You can get more information about how to switch at this URL:\n",
      " https://github.com/Theano/Theano/wiki/Converting-to-the-new-gpu-back-end%28gpuarray%29\n",
      "\n",
      "Using gpu device 0: GeForce GTX 970 (CNMeM is enabled with initial size: 85.0% of memory, cuDNN 5110)\n",
      "/home/watts/anaconda2/lib/python2.7/site-packages/sklearn/cross_validation.py:44: DeprecationWarning: This module was deprecated in version 0.18 in favor of the model_selection module into which all the refactored classes and functions are moved. Also note that the interface of the new CV iterators are different from that of this module. This module will be removed in 0.20.\n",
      "  \"This module will be removed in 0.20.\", DeprecationWarning)\n"
     ]
    }
   ],
   "source": [
    "import os\n",
    "os.environ['THEANO_FLAGS'] = 'floatX=float32,device=gpu0,nvcc.fastmath=True,lib.cnmem=0.85'\n",
    "#THEANO_FLAGS=device=gpu python -c \"import theano; print(theano.sandbox.cuda.device_properties(0))\"\n",
    "import keras\n",
    "import theano\n",
    "\n",
    "import sklearn\n",
    "from sklearn.cross_validation import train_test_split, cross_val_score\n",
    "from sklearn.metrics import accuracy_score, precision_score, recall_score, precision_recall_curve, f1_score, confusion_matrix, roc_curve, auc, roc_auc_score\n",
    "from sklearn import metrics\n",
    "\n",
    "import gzip\n",
    "import numpy as np\n",
    "import pandas as pd\n",
    "import cPickle as pickle\n",
    "import time\n",
    "from datetime import datetime\n",
    "\n",
    "\n",
    "import matplotlib\n",
    "matplotlib.use(\"Pdf\")\n",
    "import matplotlib.pyplot as plt\n",
    "%matplotlib inline\n",
    "\n",
    "#from helper_functions import *\n",
    "\n",
    "from keras.layers import merge, Convolution2D, MaxPooling2D, Input, UpSampling2D\n",
    "from keras.layers import merge, Convolution3D, MaxPooling3D, Input, UpSampling3D\n",
    "from keras.layers import Dense, Activation, Dropout\n",
    "from keras.layers import LSTM\n",
    "from keras.models import Model\n",
    "from keras.optimizers import SGD\n",
    "from keras import backend as K\n",
    "\n",
    "K.set_image_dim_ordering('th')  # Theano dimension ordering in this code\n"
   ]
  },
  {
   "cell_type": "code",
   "execution_count": 2,
   "metadata": {
    "collapsed": true
   },
   "outputs": [],
   "source": [
    "working_path = \"/home/watts/lal/Kaggle/lung_cancer/cache/luna16/02242017_41_41_7/\"\n",
    "#working_path = \"/home/watts/lal/Kaggle/lung_cancer/cache/luna16/\""
   ]
  },
  {
   "cell_type": "code",
   "execution_count": 3,
   "metadata": {
    "collapsed": true
   },
   "outputs": [],
   "source": [
    "smooth = 1.\n",
    "\n",
    "def dice_coef(y_true, y_pred):\n",
    "    y_true_f = K.flatten(y_true)\n",
    "    y_pred_f = K.flatten(y_pred)\n",
    "    intersection = K.sum(y_true_f * y_pred_f)\n",
    "    return (2. * intersection + smooth) / (K.sum(y_true_f) + K.sum(y_pred_f) + smooth)\n",
    "\n",
    "def dice_coef_np(y_true,y_pred):\n",
    "    y_true_f = y_true.flatten()\n",
    "    y_pred_f = y_pred.flatten()\n",
    "    intersection = np.sum(y_true_f * y_pred_f)\n",
    "    return (2. * intersection + smooth) / (np.sum(y_true_f) + np.sum(y_pred_f) + smooth)\n",
    "\n",
    "def dice_coef_loss(y_true, y_pred):\n",
    "    return -dice_coef(y_true, y_pred)\n"
   ]
  },
  {
   "cell_type": "code",
   "execution_count": 19,
   "metadata": {
    "collapsed": true
   },
   "outputs": [],
   "source": [
    "def get_weights(layer):\n",
    "     try:\n",
    "        w = layer.get_weights()\n",
    "        print w\n",
    "        weights = layer.get_weights()[0]\n",
    "        biases = layer.get_weights()[1]\n",
    "        counts = np.prod(weights.shape) + np.prod(biases.shape)\n",
    "        print counts\n",
    "     except:\n",
    "        print('Layer has no weights')"
   ]
  },
  {
   "cell_type": "code",
   "execution_count": 4,
   "metadata": {
    "collapsed": false
   },
   "outputs": [],
   "source": [
    "imgs_train = np.load(working_path+\"my_train_images.npy\").astype(np.float32)\n",
    "imgs_mask_train = np.load(working_path+\"my_train_masks.npy\").astype(np.float32)\n",
    "\n",
    "imgs_test = np.load(working_path+\"my_test_images.npy\").astype(np.float32)\n",
    "imgs_mask_test_true = np.load(working_path+\"my_test_masks.npy\").astype(np.float32)\n",
    "    \n",
    "mean = np.mean(imgs_train)  # mean for data centering\n",
    "std = np.std(imgs_train)  # std for data normalization\n",
    "\n",
    "imgs_train -= mean  # images should already be standardized, but just in case\n",
    "imgs_train /= std\n",
    "\n",
    "train_x = imgs_train\n",
    "train_y = imgs_mask_train\n",
    "\n",
    "test_x = imgs_test\n",
    "test_y = imgs_mask_test_true\n"
   ]
  },
  {
   "cell_type": "code",
   "execution_count": 5,
   "metadata": {
    "collapsed": true
   },
   "outputs": [],
   "source": [
    "train_x = np.concatenate( [imgs_train[i] for i in range(imgs_train.shape[0])] )\n",
    "train_y = np.concatenate([imgs_mask_train[i] for i in range(imgs_mask_train.shape[0])])\n",
    "test_x = np.concatenate( [imgs_test[i] for i in range(imgs_test.shape[0])] )\n",
    "test_y = np.concatenate([imgs_mask_test_true[i] for i in range(imgs_mask_test_true.shape[0])])"
   ]
  },
  {
   "cell_type": "code",
   "execution_count": 6,
   "metadata": {
    "collapsed": false
   },
   "outputs": [
    {
     "data": {
      "text/plain": [
       "(949, 7, 41, 41)"
      ]
     },
     "execution_count": 6,
     "metadata": {},
     "output_type": "execute_result"
    }
   ],
   "source": [
    "train_x.shape"
   ]
  },
  {
   "cell_type": "code",
   "execution_count": 7,
   "metadata": {
    "collapsed": false
   },
   "outputs": [
    {
     "data": {
      "text/plain": [
       "(949, 7, 41, 41)"
      ]
     },
     "execution_count": 7,
     "metadata": {},
     "output_type": "execute_result"
    }
   ],
   "source": [
    "train_y.shape"
   ]
  },
  {
   "cell_type": "code",
   "execution_count": 8,
   "metadata": {
    "collapsed": true
   },
   "outputs": [],
   "source": [
    "train_x = train_x.reshape(train_x.shape[0], 1, train_x.shape[1], train_x.shape[2],train_x.shape[3])\n",
    "\n",
    "test_x = test_x.reshape(test_x.shape[0], 1, test_x.shape[1], test_x.shape[2],test_x.shape[3])"
   ]
  },
  {
   "cell_type": "code",
   "execution_count": 9,
   "metadata": {
    "collapsed": true
   },
   "outputs": [],
   "source": [
    "train_y = np.array([train_y[i] for i in range(len(train_y))])\n",
    "\n",
    "test_y = np.array([test_y[i] for i in range(len(test_y))])"
   ]
  },
  {
   "cell_type": "code",
   "execution_count": 10,
   "metadata": {
    "collapsed": false
   },
   "outputs": [],
   "source": [
    "train_y = train_y.reshape(train_y.shape[0], 1, train_y.shape[1], train_y.shape[2],train_y.shape[3])"
   ]
  },
  {
   "cell_type": "code",
   "execution_count": 11,
   "metadata": {
    "collapsed": false
   },
   "outputs": [
    {
     "data": {
      "text/plain": [
       "(949, 7, 1, 41, 41)"
      ]
     },
     "execution_count": 11,
     "metadata": {},
     "output_type": "execute_result"
    }
   ],
   "source": [
    "train_y.shape"
   ]
  },
  {
   "cell_type": "code",
   "execution_count": 12,
   "metadata": {
    "collapsed": false
   },
   "outputs": [
    {
     "data": {
      "text/plain": [
       "(949, 7, 1, 41, 41)"
      ]
     },
     "execution_count": 12,
     "metadata": {},
     "output_type": "execute_result"
    }
   ],
   "source": [
    "train_x.shape"
   ]
  },
  {
   "cell_type": "code",
   "execution_count": null,
   "metadata": {
    "collapsed": true
   },
   "outputs": [],
   "source": [
    "# Convolution\n",
    "#Accepts a volume of size W1×H1×D1\n",
    "#Requires four hyperparameters:\n",
    "#Number of filters K,\n",
    "#their spatial extent F,\n",
    "#the stride S,\n",
    "#the amount of zero padding P.\n",
    "#Produces a volume of size W2×H2×D2 where:\n",
    "#W2=(W1−F+2P)/S+1\n",
    "#H2=(H1−F+2P)/S+1 (i.e. width and height are computed equally by symmetry)\n",
    "#D2=K\n",
    "# With parameter sharing, it introduces F*F*D1 weights per filter, for a total of (F⋅F⋅D1)⋅K weights and K biases.\n",
    "#In the output volume, the d-th depth slice (of size W2×H2) is the result of performing a valid convolution of the d-th filter over the input volume with a stride of SS, and then offset by dd-th bias.\n",
    "\n",
    "# Pooling\n",
    "# Accepts a volume of size W1×H1×D1\n",
    "# Requires two hyperparameters:\n",
    "# their spatial extent F,\n",
    "# the stride S,\n",
    "# Produces a volume of size W2×H2×D2 where:\n",
    "# W2=(W1−F)/S+1\n",
    "# H2=(H1−F)/S+1\n",
    "# D2=D1"
   ]
  },
  {
   "cell_type": "code",
   "execution_count": 20,
   "metadata": {
    "collapsed": false
   },
   "outputs": [
    {
     "name": "stdout",
     "output_type": "stream",
     "text": [
      "Layer has no weights\n",
      "Layer has no weights\n",
      "Layer has no weights\n",
      "____________________________________________________________________________________________________\n",
      "Layer (type)                     Output Shape          Param #     Connected to                     \n",
      "====================================================================================================\n",
      "input_6 (InputLayer)             (None, 1, 512, 512)   0                                            \n",
      "____________________________________________________________________________________________________\n",
      "convolution2d_39 (Convolution2D) (None, 32, 512, 512)  320         input_6[0][0]                    \n",
      "____________________________________________________________________________________________________\n",
      "convolution2d_40 (Convolution2D) (None, 32, 512, 512)  9248        convolution2d_39[0][0]           \n",
      "____________________________________________________________________________________________________\n",
      "maxpooling2d_9 (MaxPooling2D)    (None, 32, 256, 256)  0           convolution2d_40[0][0]           \n",
      "____________________________________________________________________________________________________\n",
      "convolution2d_41 (Convolution2D) (None, 64, 256, 256)  18496       maxpooling2d_9[0][0]             \n",
      "____________________________________________________________________________________________________\n",
      "convolution2d_42 (Convolution2D) (None, 64, 256, 256)  36928       convolution2d_41[0][0]           \n",
      "____________________________________________________________________________________________________\n",
      "maxpooling2d_10 (MaxPooling2D)   (None, 64, 128, 128)  0           convolution2d_42[0][0]           \n",
      "____________________________________________________________________________________________________\n",
      "convolution2d_43 (Convolution2D) (None, 128, 128, 128) 73856       maxpooling2d_10[0][0]            \n",
      "____________________________________________________________________________________________________\n",
      "convolution2d_44 (Convolution2D) (None, 128, 128, 128) 147584      convolution2d_43[0][0]           \n",
      "____________________________________________________________________________________________________\n",
      "maxpooling2d_11 (MaxPooling2D)   (None, 128, 64, 64)   0           convolution2d_44[0][0]           \n",
      "____________________________________________________________________________________________________\n",
      "convolution2d_45 (Convolution2D) (None, 256, 64, 64)   295168      maxpooling2d_11[0][0]            \n",
      "____________________________________________________________________________________________________\n",
      "convolution2d_46 (Convolution2D) (None, 256, 64, 64)   590080      convolution2d_45[0][0]           \n",
      "____________________________________________________________________________________________________\n",
      "maxpooling2d_12 (MaxPooling2D)   (None, 256, 32, 32)   0           convolution2d_46[0][0]           \n",
      "____________________________________________________________________________________________________\n",
      "convolution2d_47 (Convolution2D) (None, 512, 32, 32)   1180160     maxpooling2d_12[0][0]            \n",
      "____________________________________________________________________________________________________\n",
      "convolution2d_48 (Convolution2D) (None, 512, 32, 32)   2359808     convolution2d_47[0][0]           \n",
      "____________________________________________________________________________________________________\n",
      "upsampling2d_9 (UpSampling2D)    (None, 512, 64, 64)   0           convolution2d_48[0][0]           \n",
      "____________________________________________________________________________________________________\n",
      "merge_9 (Merge)                  (None, 768, 64, 64)   0           upsampling2d_9[0][0]             \n",
      "                                                                   convolution2d_46[0][0]           \n",
      "____________________________________________________________________________________________________\n",
      "convolution2d_49 (Convolution2D) (None, 256, 64, 64)   1769728     merge_9[0][0]                    \n",
      "____________________________________________________________________________________________________\n",
      "convolution2d_50 (Convolution2D) (None, 256, 64, 64)   590080      convolution2d_49[0][0]           \n",
      "____________________________________________________________________________________________________\n",
      "upsampling2d_10 (UpSampling2D)   (None, 256, 128, 128) 0           convolution2d_50[0][0]           \n",
      "____________________________________________________________________________________________________\n",
      "merge_10 (Merge)                 (None, 384, 128, 128) 0           upsampling2d_10[0][0]            \n",
      "                                                                   convolution2d_44[0][0]           \n",
      "____________________________________________________________________________________________________\n",
      "convolution2d_51 (Convolution2D) (None, 128, 128, 128) 442496      merge_10[0][0]                   \n",
      "____________________________________________________________________________________________________\n",
      "convolution2d_52 (Convolution2D) (None, 128, 128, 128) 147584      convolution2d_51[0][0]           \n",
      "____________________________________________________________________________________________________\n",
      "upsampling2d_11 (UpSampling2D)   (None, 128, 256, 256) 0           convolution2d_52[0][0]           \n",
      "____________________________________________________________________________________________________\n",
      "merge_11 (Merge)                 (None, 192, 256, 256) 0           upsampling2d_11[0][0]            \n",
      "                                                                   convolution2d_42[0][0]           \n",
      "____________________________________________________________________________________________________\n",
      "convolution2d_53 (Convolution2D) (None, 64, 256, 256)  110656      merge_11[0][0]                   \n",
      "____________________________________________________________________________________________________\n",
      "convolution2d_54 (Convolution2D) (None, 64, 256, 256)  36928       convolution2d_53[0][0]           \n",
      "____________________________________________________________________________________________________\n",
      "upsampling2d_12 (UpSampling2D)   (None, 64, 512, 512)  0           convolution2d_54[0][0]           \n",
      "____________________________________________________________________________________________________\n",
      "merge_12 (Merge)                 (None, 96, 512, 512)  0           upsampling2d_12[0][0]            \n",
      "                                                                   convolution2d_40[0][0]           \n",
      "____________________________________________________________________________________________________\n",
      "convolution2d_55 (Convolution2D) (None, 32, 512, 512)  27680       merge_12[0][0]                   \n",
      "____________________________________________________________________________________________________\n",
      "convolution2d_56 (Convolution2D) (None, 32, 512, 512)  9248        convolution2d_55[0][0]           \n",
      "____________________________________________________________________________________________________\n",
      "convolution2d_57 (Convolution2D) (None, 1, 512, 512)   33          convolution2d_56[0][0]           \n",
      "====================================================================================================\n",
      "Total params: 7,846,081\n",
      "Trainable params: 7,846,081\n",
      "Non-trainable params: 0\n",
      "____________________________________________________________________________________________________\n"
     ]
    }
   ],
   "source": [
    "inputs = Input((1,512, 512)) # width = 512, height = 512, depth = 1\n",
    "\n",
    "# output W2 = (512 - 3 + 2*1)/1 + 1 = 512 x 512 x 32\n",
    "# num output params = 3 * 3 * 1 * 32 + 32 = 320\n",
    "conv1 = Convolution2D(32, 3, 3, activation='relu', border_mode='same')(inputs) \n",
    "\n",
    "# output 512 x 512 x 32\n",
    "# num output params = 3 * 3 * 32 * 32 + 32 = 9248\n",
    "conv1 = Convolution2D(32, 3, 3, activation='relu', border_mode='same')(conv1)\n",
    "\n",
    "# output = 256 x 256 x 32\n",
    "pool1 = MaxPooling2D(pool_size=(2, 2))(conv1)\n",
    "\n",
    "# output = 256 x 256 x 64\n",
    "conv2 = Convolution2D(64, 3, 3, activation='relu', border_mode='same')(pool1)\n",
    "\n",
    "# output = 256 x 256 x 64\n",
    "conv2 = Convolution2D(64, 3, 3, activation='relu', border_mode='same')(conv2)\n",
    "\n",
    "# output = 128 x 128 x 64\n",
    "pool2 = MaxPooling2D(pool_size=(2, 2))(conv2)\n",
    "\n",
    "# output = 128 x 128 x 128\n",
    "conv3 = Convolution2D(128, 3, 3, activation='relu', border_mode='same')(pool2)\n",
    "\n",
    "# output = 128 x 128 x 128\n",
    "conv3 = Convolution2D(128, 3, 3, activation='relu', border_mode='same')(conv3)\n",
    "\n",
    "# output = 64 x 64 x 128\n",
    "pool3 = MaxPooling2D(pool_size=(2, 2))(conv3)\n",
    "\n",
    "# output = 64 x 64 x 256\n",
    "conv4 = Convolution2D(256, 3, 3, activation='relu', border_mode='same')(pool3)\n",
    "\n",
    "# output = 64 x 64 x 256\n",
    "conv4 = Convolution2D(256, 3, 3, activation='relu', border_mode='same')(conv4)\n",
    "\n",
    "# output = 32 x 32 x 256\n",
    "pool4 = MaxPooling2D(pool_size=(2, 2))(conv4)\n",
    "\n",
    "# output = 32 x 32 x 512\n",
    "conv5 = Convolution2D(512, 3, 3, activation='relu', border_mode='same')(pool4)\n",
    "\n",
    "# output = 32 x 32 x 512\n",
    "conv5 = Convolution2D(512, 3, 3, activation='relu', border_mode='same')(conv5)\n",
    "\n",
    "# output of UpSampling2D(size=(2, 2))(conv5): 64 x 64 x 512\n",
    "# outputof up6: 64 x 64 x 768\n",
    "up6 = merge([UpSampling2D(size=(2, 2))(conv5), conv4], mode='concat', concat_axis=1)\n",
    "\n",
    "# outputof up6: 64 x 64 x 256\n",
    "conv6 = Convolution2D(256, 3, 3, activation='relu', border_mode='same')(up6)\n",
    "\n",
    "# outputof up6: 64 x 64 x 256\n",
    "conv6 = Convolution2D(256, 3, 3, activation='relu', border_mode='same')(conv6)\n",
    "\n",
    "# output of UpSampling2D(size=(2, 2))(conv6): 128 x 128 x 256\n",
    "# outputof up7: 128 x 128 x 384\n",
    "up7 = merge([UpSampling2D(size=(2, 2))(conv6), conv3], mode='concat', concat_axis=1)\n",
    "\n",
    "# output: 128 x 128 x 128\n",
    "conv7 = Convolution2D(128, 3, 3, activation='relu', border_mode='same')(up7)\n",
    "\n",
    "# output: 128 x 128 x 128\n",
    "conv7 = Convolution2D(128, 3, 3, activation='relu', border_mode='same')(conv7)\n",
    "\n",
    "# output of UpSampling2D(size=(2, 2))(conv6): 256 x 256 x 256\n",
    "# outputof up8: 256 x 256 x 192\n",
    "up8 = merge([UpSampling2D(size=(2, 2))(conv7), conv2], mode='concat', concat_axis=1)\n",
    "\n",
    "# output: 256 x 256 x 64\n",
    "conv8 = Convolution2D(64, 3, 3, activation='relu', border_mode='same')(up8)\n",
    "\n",
    "# output: 256 x 256 x 64\n",
    "conv8 = Convolution2D(64, 3, 3, activation='relu', border_mode='same')(conv8)\n",
    "\n",
    "# output of UpSampling2D(size=(2, 2))(conv8):  512 x 512 x 64\n",
    "# outputof up9: 512 x 512 x 96\n",
    "up9 = merge([UpSampling2D(size=(2, 2))(conv8), conv1], mode='concat', concat_axis=1)\n",
    "\n",
    "# output: 512 x 512 x 32\n",
    "conv9 = Convolution2D(32, 3, 3, activation='relu', border_mode='same')(up9)\n",
    "\n",
    "# output: 512 x 512 x 32\n",
    "conv9 = Convolution2D(32, 3, 3, activation='relu', border_mode='same')(conv9)\n",
    "\n",
    "# output: 512 x 512 x 1\n",
    "conv10 = Convolution2D(1, 1, 1, activation='sigmoid')(conv9)\n",
    "\n",
    "model = Model(input=inputs, output=conv10)\n",
    "model.summary()"
   ]
  },
  {
   "cell_type": "code",
   "execution_count": 30,
   "metadata": {
    "collapsed": false
   },
   "outputs": [
    {
     "name": "stdout",
     "output_type": "stream",
     "text": [
      "____________________________________________________________________________________________________\n",
      "Layer (type)                     Output Shape          Param #     Connected to                     \n",
      "====================================================================================================\n",
      "input_16 (InputLayer)            (None, 1, 8, 40, 40)  0                                            \n",
      "____________________________________________________________________________________________________\n",
      "convolution3d_41 (Convolution3D) (None, 32, 8, 40, 40) 896         input_16[0][0]                   \n",
      "____________________________________________________________________________________________________\n",
      "convolution3d_42 (Convolution3D) (None, 32, 8, 40, 40) 27680       convolution3d_41[0][0]           \n",
      "____________________________________________________________________________________________________\n",
      "maxpooling3d_25 (MaxPooling3D)   (None, 32, 4, 20, 20) 0           convolution3d_42[0][0]           \n",
      "____________________________________________________________________________________________________\n",
      "convolution3d_43 (Convolution3D) (None, 64, 4, 20, 20) 55360       maxpooling3d_25[0][0]            \n",
      "____________________________________________________________________________________________________\n",
      "convolution3d_44 (Convolution3D) (None, 64, 4, 20, 20) 110656      convolution3d_43[0][0]           \n",
      "____________________________________________________________________________________________________\n",
      "upsampling3d_3 (UpSampling3D)    (None, 64, 8, 40, 40) 0           convolution3d_44[0][0]           \n",
      "____________________________________________________________________________________________________\n",
      "merge_15 (Merge)                 (None, 96, 8, 40, 40) 0           upsampling3d_3[0][0]             \n",
      "                                                                   convolution3d_42[0][0]           \n",
      "____________________________________________________________________________________________________\n",
      "convolution3d_45 (Convolution3D) (None, 32, 8, 40, 40) 82976       merge_15[0][0]                   \n",
      "____________________________________________________________________________________________________\n",
      "convolution3d_46 (Convolution3D) (None, 32, 8, 40, 40) 27680       convolution3d_45[0][0]           \n",
      "____________________________________________________________________________________________________\n",
      "convolution3d_47 (Convolution3D) (None, 1, 8, 40, 40)  33          convolution3d_46[0][0]           \n",
      "====================================================================================================\n",
      "Total params: 305,281\n",
      "Trainable params: 305,281\n",
      "Non-trainable params: 0\n",
      "____________________________________________________________________________________________________\n"
     ]
    }
   ],
   "source": [
    "inputs = Input((1, 8, 40, 40))\n",
    "\n",
    "# output W2 = (41 - 3 + 2*1)/1 + 1 = 40 x 40 x 8 x 32\n",
    "conv1 = Convolution3D(32, 3, 3, 3, activation='relu', border_mode='same')(inputs)\n",
    "\n",
    "# output 40 x 40 x 8 x 32\n",
    "conv1 = Convolution3D(32, 3, 3, 3, activation='relu', border_mode='same')(conv1)\n",
    "\n",
    "# output 20 x 20 x 4 x 32\n",
    "pool1 = MaxPooling3D(pool_size=(2, 2, 2))(conv1)\n",
    "\n",
    "# output 20 x 20 x 4 x 64\n",
    "conv2 = Convolution3D(64, 3, 3, 3, activation='relu', border_mode='same')(pool1)\n",
    "\n",
    "# output 20 x 20 x 4 x 64\n",
    "conv2 = Convolution3D(64, 3, 3, 3, activation='relu', border_mode='same')(conv2)\n",
    "\n",
    "# output 10 x 10 x 2 x 64\n",
    "pool2 = MaxPooling3D(pool_size=(2, 2, 2))(conv2)\n",
    "\n",
    "# output 10 x 10 x 1 x 128\n",
    "#conv3 = Convolution3D(128, 3, 3, 3, activation='relu', border_mode='same')(pool2)\n",
    "#output 10 x 10 x 1 x 128\n",
    "#conv3 = Convolution3D(128, 3, 3, 3, activation='relu', border_mode='same')(conv3)\n",
    "#pool3 = MaxPooling3D(pool_size=(2, 2, 2))(conv3)\n",
    "\n",
    "#conv4 = Convolution3D(256, 3, 3, 3, activation='relu', border_mode='same')(pool3)\n",
    "#conv4 = Convolution3D(256, 3, 3, 3, activation='relu', border_mode='same')(conv4)\n",
    "#pool4 = MaxPooling3D(pool_size=(2, 2, 2))(conv4)\n",
    "\n",
    "#conv5 = Convolution3D(512, 3, 3, 3, activation='relu', border_mode='same')(pool4)\n",
    "#conv5 = Convolution3D(512, 3, 3, 3, activation='relu', border_mode='same')(conv5)\n",
    "\n",
    "#up6 = merge([UpSampling3D(size=(2, 2, 2))(conv5), conv4], mode='concat', concat_axis=1)\n",
    "#conv6 = Convolution3D(256, 3, 3, 3, activation='relu', border_mode='same')(up6)\n",
    "#conv6 = Convolution3D(256, 3, 3, 3, activation='relu', border_mode='same')(conv6)\n",
    "\n",
    "#up7 = merge([UpSampling3D(size=(2, 2, 2))(conv6), conv3], mode='concat', concat_axis=1)\n",
    "#conv7 = Convolution3D(128, 3, 3, 3, activation='relu', border_mode='same')(up7)\n",
    "#conv7 = Convolution3D(128, 3, 3, 3, activation='relu', border_mode='same')(conv7)\n",
    "\n",
    "#up8 = merge([UpSampling3D(size=(2, 2, 2))(conv7), conv2], mode='concat', concat_axis=1)\n",
    "#conv8 = Convolution3D(64, 3, 3, 3, activation='relu', border_mode='same')(up8)\n",
    "#conv8 = Convolution3D(64, 3, 3, 3, activation='relu', border_mode='same')(conv8)\n",
    "\n",
    "up9 = merge([UpSampling3D(size=(2, 2, 2))(conv2), conv1], mode='concat', concat_axis=1)\n",
    "conv9 = Convolution3D(32, 3, 3, 3, activation='relu', border_mode='same')(up9)\n",
    "conv9 = Convolution3D(32, 3, 3, 3, activation='relu', border_mode='same')(conv9)\n",
    "\n",
    "conv10 = Convolution3D(1, 1, 1, 1, activation='sigmoid')(conv9)\n",
    "\n",
    "model = Model(input=inputs, output=conv10)\n",
    "\n",
    "model.summary()\n",
    "#model.compile(optimizer=Adam(lr=1.0e-5), loss=dice_coef_loss, metrics=[dice_coef])"
   ]
  },
  {
   "cell_type": "code",
   "execution_count": 15,
   "metadata": {
    "collapsed": false
   },
   "outputs": [
    {
     "ename": "AssertionError",
     "evalue": "",
     "output_type": "error",
     "traceback": [
      "\u001b[0;31m---------------------------------------------------------------------------\u001b[0m",
      "\u001b[0;31mAssertionError\u001b[0m                            Traceback (most recent call last)",
      "\u001b[0;32m<ipython-input-15-0c8faa3d0157>\u001b[0m in \u001b[0;36m<module>\u001b[0;34m()\u001b[0m\n\u001b[1;32m     17\u001b[0m get_1st_layer_output = K.function([model.layers[0].input],\n\u001b[1;32m     18\u001b[0m                                   [model.layers[1].output])\n\u001b[0;32m---> 19\u001b[0;31m \u001b[0mlayer_output\u001b[0m \u001b[0;34m=\u001b[0m \u001b[0mget_1st_layer_output\u001b[0m\u001b[0;34m(\u001b[0m\u001b[0mtrain_x\u001b[0m\u001b[0;34m)\u001b[0m\u001b[0;34m[\u001b[0m\u001b[0;36m0\u001b[0m\u001b[0;34m]\u001b[0m\u001b[0;34m\u001b[0m\u001b[0m\n\u001b[0m\u001b[1;32m     20\u001b[0m \u001b[0;34m\u001b[0m\u001b[0m\n\u001b[1;32m     21\u001b[0m \u001b[0mlayer_output\u001b[0m\u001b[0;34m\u001b[0m\u001b[0m\n",
      "\u001b[0;32m/home/watts/anaconda2/lib/python2.7/site-packages/keras/backend/theano_backend.pyc\u001b[0m in \u001b[0;36m__call__\u001b[0;34m(self, inputs)\u001b[0m\n\u001b[1;32m    956\u001b[0m \u001b[0;34m\u001b[0m\u001b[0m\n\u001b[1;32m    957\u001b[0m     \u001b[0;32mdef\u001b[0m \u001b[0m__call__\u001b[0m\u001b[0;34m(\u001b[0m\u001b[0mself\u001b[0m\u001b[0;34m,\u001b[0m \u001b[0minputs\u001b[0m\u001b[0;34m)\u001b[0m\u001b[0;34m:\u001b[0m\u001b[0;34m\u001b[0m\u001b[0m\n\u001b[0;32m--> 958\u001b[0;31m         \u001b[0;32massert\u001b[0m \u001b[0misinstance\u001b[0m\u001b[0;34m(\u001b[0m\u001b[0minputs\u001b[0m\u001b[0;34m,\u001b[0m \u001b[0;34m(\u001b[0m\u001b[0mlist\u001b[0m\u001b[0;34m,\u001b[0m \u001b[0mtuple\u001b[0m\u001b[0;34m)\u001b[0m\u001b[0;34m)\u001b[0m\u001b[0;34m\u001b[0m\u001b[0m\n\u001b[0m\u001b[1;32m    959\u001b[0m         \u001b[0;32mreturn\u001b[0m \u001b[0mself\u001b[0m\u001b[0;34m.\u001b[0m\u001b[0mfunction\u001b[0m\u001b[0;34m(\u001b[0m\u001b[0;34m*\u001b[0m\u001b[0minputs\u001b[0m\u001b[0;34m)\u001b[0m\u001b[0;34m\u001b[0m\u001b[0m\n\u001b[1;32m    960\u001b[0m \u001b[0;34m\u001b[0m\u001b[0m\n",
      "\u001b[0;31mAssertionError\u001b[0m: "
     ]
    }
   ],
   "source": [
    "input_img = Input(shape=(7, 1, 41, 41))\n",
    "x = Convolution3D(nb_filter=40,kernel_dim1=3, kernel_dim2=3,kernel_dim3=3,border_mode='full',activation='relu')(input_img)\n",
    "\n",
    "x = MaxPooling3D(pool_size=(5,5,5), strides=(5,5,5), border_mode='valid')(x)\n",
    "x = Convolution3D(nb_filter=20,kernel_dim1=3, kernel_dim2=3,kernel_dim3=3,border_mode='full',activation='relu')(x)\n",
    "x = MaxPooling3D(pool_size=(2,2,2), strides=(2,2,2), border_mode='valid')(x)\n",
    "#x = LSTM(10, input_shape=(7,1,41,41))(x)\n",
    "x = Dense(60, activation='relu', name=\"hidden_one\")(x)\n",
    "x = Dropout(.5)(x)\n",
    "x = Dense(10, activation='relu', name=\"hidden_two\")(x)\n",
    "predictions = Dense(1, activation='sigmoid', name=\"output_one\")(x)\n",
    "model = Model(input=input_img, output=predictions)\n",
    "sgd = SGD(lr=0.05, decay=1e-6, momentum=0.5, nesterov=True)\n",
    "model.compile(optimizer=sgd, loss=dice_coef_loss, metrics=[dice_coef])\n",
    "#model.summary()\n",
    "\n",
    "get_1st_layer_output = K.function([model.layers[0].input],\n",
    "                                  [model.layers[1].output])\n",
    "layer_output = get_1st_layer_output(train_x)[0]\n",
    "\n",
    "layer_output\n",
    "#model.fit(train_x, train_y,nb_epoch=25)"
   ]
  },
  {
   "cell_type": "code",
   "execution_count": 29,
   "metadata": {
    "collapsed": false
   },
   "outputs": [
    {
     "name": "stdout",
     "output_type": "stream",
     "text": [
      "____________________________________________________________________________________________________\n",
      "Layer (type)                     Output Shape          Param #     Connected to                     \n",
      "====================================================================================================\n",
      "input_15 (InputLayer)            (None, 1, 7, 41, 41)  0                                            \n",
      "____________________________________________________________________________________________________\n",
      "convolution3d_36 (Convolution3D) (None, 50, 7, 41, 41) 89650       input_15[0][0]                   \n",
      "____________________________________________________________________________________________________\n",
      "maxpooling3d_23 (MaxPooling3D)   (None, 50, 7, 41, 41) 0           convolution3d_36[0][0]           \n",
      "____________________________________________________________________________________________________\n",
      "convolution3d_37 (Convolution3D) (None, 50, 7, 41, 41) 6125050     maxpooling3d_23[0][0]            \n",
      "____________________________________________________________________________________________________\n",
      "maxpooling3d_24 (MaxPooling3D)   (None, 50, 3, 20, 20) 0           convolution3d_37[0][0]           \n",
      "____________________________________________________________________________________________________\n",
      "convolution3d_38 (Convolution3D) (None, 80, 3, 20, 20) 1800080     maxpooling3d_24[0][0]            \n",
      "____________________________________________________________________________________________________\n",
      "convolution3d_39 (Convolution3D) (None, 100, 3, 20, 20 2560100     convolution3d_38[0][0]           \n",
      "____________________________________________________________________________________________________\n",
      "convolution3d_40 (Convolution3D) (None, 1, 3, 20, 20)  101         convolution3d_39[0][0]           \n",
      "====================================================================================================\n",
      "Total params: 10,574,981\n",
      "Trainable params: 10,574,981\n",
      "Non-trainable params: 0\n",
      "____________________________________________________________________________________________________\n"
     ]
    }
   ],
   "source": [
    "inputs = Input((1, 7, 41, 41))\n",
    "\n",
    "# output  41 x 41 x 7 x 50\n",
    "conv1 = Convolution3D(50, 7, 16, 16, activation='relu', border_mode='same')(inputs)\n",
    "\n",
    "# output 41 x 41 x 7 x 50\n",
    "pool1 = MaxPooling3D(pool_size=(1, 1, 1))(conv1)\n",
    "\n",
    "# output 41 x 41 x 7 x 50\n",
    "conv2 = Convolution3D(50, 50, 7, 7, activation='relu', border_mode='same')(pool1)\n",
    "\n",
    "# output 20 x 20 x 3 x 64\n",
    "#conv2 = Convolution3D(64, 3, 3, 3, activation='relu', border_mode='same')(conv2)\n",
    "\n",
    "# output 20 x 20 x 3 x 50\n",
    "pool2 = MaxPooling3D(pool_size=(2, 2, 2))(conv2)\n",
    "\n",
    "# output 41 x 41 x 7 x 50\n",
    "conv3 = Convolution3D(80, 50, 3, 3, activation='relu', border_mode='same')(pool2)\n",
    "\n",
    "# output 41 x 41 x 7 x 50\n",
    "conv4 = Convolution3D(100, 80, 2, 2, activation='relu', border_mode='same')(conv3)\n",
    "\n",
    "# output 10 x 10 x 1 x 128\n",
    "#conv3 = Convolution3D(128, 3, 3, 3, activation='relu', border_mode='same')(pool2)\n",
    "#output 10 x 10 x 1 x 128\n",
    "#conv3 = Convolution3D(128, 3, 3, 3, activation='relu', border_mode='same')(conv3)\n",
    "#pool3 = MaxPooling3D(pool_size=(2, 2, 2))(conv3)\n",
    "\n",
    "#conv4 = Convolution3D(256, 3, 3, 3, activation='relu', border_mode='same')(pool3)\n",
    "#conv4 = Convolution3D(256, 3, 3, 3, activation='relu', border_mode='same')(conv4)\n",
    "#pool4 = MaxPooling3D(pool_size=(2, 2, 2))(conv4)\n",
    "\n",
    "#conv5 = Convolution3D(512, 3, 3, 3, activation='relu', border_mode='same')(pool4)\n",
    "#conv5 = Convolution3D(512, 3, 3, 3, activation='relu', border_mode='same')(conv5)\n",
    "\n",
    "#up6 = merge([UpSampling3D(size=(2, 2, 2))(conv5), conv4], mode='concat', concat_axis=1)\n",
    "#conv6 = Convolution3D(256, 3, 3, 3, activation='relu', border_mode='same')(up6)\n",
    "#conv6 = Convolution3D(256, 3, 3, 3, activation='relu', border_mode='same')(conv6)\n",
    "\n",
    "#up7 = merge([UpSampling3D(size=(2, 2, 2))(conv6), conv3], mode='concat', concat_axis=1)\n",
    "#conv7 = Convolution3D(128, 3, 3, 3, activation='relu', border_mode='same')(up7)\n",
    "#conv7 = Convolution3D(128, 3, 3, 3, activation='relu', border_mode='same')(conv7)\n",
    "\n",
    "#up8 = merge([UpSampling3D(size=(2, 2, 2))(conv7), conv2], mode='concat', concat_axis=1)\n",
    "#conv8 = Convolution3D(64, 3, 3, 3, activation='relu', border_mode='same')(up8)\n",
    "#conv8 = Convolution3D(64, 3, 3, 3, activation='relu', border_mode='same')(conv8)\n",
    "\n",
    "#up9 = merge([UpSampling3D(size=(2, 2, 2))(conv2), conv1], mode='concat', concat_axis=1)\n",
    "#conv9 = Convolution3D(32, 3, 3, 3, activation='relu', border_mode='same')(up9)\n",
    "#conv9 = Convolution3D(32, 3, 3, 3, activation='relu', border_mode='same')(conv9)\n",
    "\n",
    "conv10 = Convolution3D(1, 1, 1, 1, activation='sigmoid')(conv4)\n",
    "\n",
    "model = Model(input=inputs, output=conv10)\n",
    "\n",
    "model.summary()\n",
    "#model.compile(optimizer=Adam(lr=1.0e-5), loss=dice_coef_loss, metrics=[dice_coef])"
   ]
  },
  {
   "cell_type": "code",
   "execution_count": null,
   "metadata": {
    "collapsed": true
   },
   "outputs": [],
   "source": []
  }
 ],
 "metadata": {
  "kernelspec": {
   "display_name": "Python 2",
   "language": "python",
   "name": "python2"
  },
  "language_info": {
   "codemirror_mode": {
    "name": "ipython",
    "version": 2
   },
   "file_extension": ".py",
   "mimetype": "text/x-python",
   "name": "python",
   "nbconvert_exporter": "python",
   "pygments_lexer": "ipython2",
   "version": "2.7.13"
  }
 },
 "nbformat": 4,
 "nbformat_minor": 2
}
